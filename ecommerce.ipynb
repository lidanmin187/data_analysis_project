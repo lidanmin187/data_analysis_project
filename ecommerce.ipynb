{
 "cells": [
  {
   "cell_type": "code",
   "execution_count": 22,
   "metadata": {},
   "outputs": [
    {
     "name": "stdout",
     "output_type": "stream",
     "text": [
      "今年付费人数: 90400\n",
      "去年付费人数: 59415\n"
     ]
    }
   ],
   "source": [
    "import numpy as np\n",
    "import pandas as pd\n",
    "import matplotlib.pyplot as plt\n",
    "\n",
    "users_current = pd.read_csv('./user_table.csv')\n",
    "users_last = pd.read_csv('./last_year_user_data.csv')\n",
    "\n",
    "users_current.head()\n",
    "users_last.head()\n",
    "#发现，今年和去年的user_table字段不一样，补齐当前user_table的字段\n",
    "\n",
    "print(\"今年付费人数: {}\".format(users_current.user_id.count()))\n",
    "print(\"去年付费人数: {}\".format(users_last.user_id.count()))"
   ]
  },
  {
   "cell_type": "code",
   "execution_count": 23,
   "metadata": {},
   "outputs": [
    {
     "data": {
      "text/html": [
       "<div>\n",
       "<style scoped>\n",
       "    .dataframe tbody tr th:only-of-type {\n",
       "        vertical-align: middle;\n",
       "    }\n",
       "\n",
       "    .dataframe tbody tr th {\n",
       "        vertical-align: top;\n",
       "    }\n",
       "\n",
       "    .dataframe thead th {\n",
       "        text-align: right;\n",
       "    }\n",
       "</style>\n",
       "<table border=\"1\" class=\"dataframe\">\n",
       "  <thead>\n",
       "    <tr style=\"text-align: right;\">\n",
       "      <th></th>\n",
       "      <th>user_id</th>\n",
       "      <th>new_user</th>\n",
       "      <th>age</th>\n",
       "      <th>sex</th>\n",
       "      <th>country</th>\n",
       "      <th>device</th>\n",
       "      <th>operative_system</th>\n",
       "      <th>source</th>\n",
       "      <th>total_pages_visited</th>\n",
       "      <th>home_page</th>\n",
       "      <th>listing_page</th>\n",
       "      <th>product_page</th>\n",
       "      <th>payment_page</th>\n",
       "      <th>confirmation_page</th>\n",
       "    </tr>\n",
       "  </thead>\n",
       "  <tbody>\n",
       "    <tr>\n",
       "      <th>0</th>\n",
       "      <td>654951</td>\n",
       "      <td>0</td>\n",
       "      <td>17</td>\n",
       "      <td>Female</td>\n",
       "      <td>US</td>\n",
       "      <td>mobile</td>\n",
       "      <td>android</td>\n",
       "      <td>Direct</td>\n",
       "      <td>3</td>\n",
       "      <td>1</td>\n",
       "      <td>1</td>\n",
       "      <td>1</td>\n",
       "      <td>0</td>\n",
       "      <td>0</td>\n",
       "    </tr>\n",
       "    <tr>\n",
       "      <th>1</th>\n",
       "      <td>730619</td>\n",
       "      <td>0</td>\n",
       "      <td>27</td>\n",
       "      <td>Male</td>\n",
       "      <td>UK</td>\n",
       "      <td>mobile</td>\n",
       "      <td>iOS</td>\n",
       "      <td>Direct</td>\n",
       "      <td>5</td>\n",
       "      <td>1</td>\n",
       "      <td>0</td>\n",
       "      <td>0</td>\n",
       "      <td>0</td>\n",
       "      <td>0</td>\n",
       "    </tr>\n",
       "    <tr>\n",
       "      <th>2</th>\n",
       "      <td>261033</td>\n",
       "      <td>0</td>\n",
       "      <td>24</td>\n",
       "      <td>Female</td>\n",
       "      <td>US</td>\n",
       "      <td>mobile</td>\n",
       "      <td>android</td>\n",
       "      <td>Seo</td>\n",
       "      <td>4</td>\n",
       "      <td>1</td>\n",
       "      <td>1</td>\n",
       "      <td>0</td>\n",
       "      <td>0</td>\n",
       "      <td>0</td>\n",
       "    </tr>\n",
       "    <tr>\n",
       "      <th>3</th>\n",
       "      <td>533685</td>\n",
       "      <td>0</td>\n",
       "      <td>21</td>\n",
       "      <td>Male</td>\n",
       "      <td>UK</td>\n",
       "      <td>desktop</td>\n",
       "      <td>windows</td>\n",
       "      <td>Direct</td>\n",
       "      <td>5</td>\n",
       "      <td>1</td>\n",
       "      <td>1</td>\n",
       "      <td>1</td>\n",
       "      <td>1</td>\n",
       "      <td>0</td>\n",
       "    </tr>\n",
       "    <tr>\n",
       "      <th>4</th>\n",
       "      <td>699480</td>\n",
       "      <td>0</td>\n",
       "      <td>17</td>\n",
       "      <td>Male</td>\n",
       "      <td>UK</td>\n",
       "      <td>mobile</td>\n",
       "      <td>iOS</td>\n",
       "      <td>Direct</td>\n",
       "      <td>6</td>\n",
       "      <td>1</td>\n",
       "      <td>1</td>\n",
       "      <td>0</td>\n",
       "      <td>0</td>\n",
       "      <td>0</td>\n",
       "    </tr>\n",
       "  </tbody>\n",
       "</table>\n",
       "</div>"
      ],
      "text/plain": [
       "   user_id  new_user  age     sex country   device operative_system  source  \\\n",
       "0   654951         0   17  Female      US   mobile          android  Direct   \n",
       "1   730619         0   27    Male      UK   mobile              iOS  Direct   \n",
       "2   261033         0   24  Female      US   mobile          android     Seo   \n",
       "3   533685         0   21    Male      UK  desktop          windows  Direct   \n",
       "4   699480         0   17    Male      UK   mobile              iOS  Direct   \n",
       "\n",
       "   total_pages_visited  home_page  listing_page  product_page  payment_page  \\\n",
       "0                    3          1             1             1             0   \n",
       "1                    5          1             0             0             0   \n",
       "2                    4          1             1             0             0   \n",
       "3                    5          1             1             1             1   \n",
       "4                    6          1             1             0             0   \n",
       "\n",
       "   confirmation_page  \n",
       "0                  0  \n",
       "1                  0  \n",
       "2                  0  \n",
       "3                  0  \n",
       "4                  0  "
      ]
     },
     "execution_count": 23,
     "metadata": {},
     "output_type": "execute_result"
    }
   ],
   "source": [
    "#读取今天的其他文件，合并到user_table表里\n",
    "page_list = users_last.columns.tolist()[-5:]\n",
    "page_list[-1] = 'payment_confirmation'\n",
    "page_list\n",
    "\n",
    "for item in page_list:\n",
    "    dataset = pd.read_csv('./{}_table.csv'.format(item))\n",
    "    dataset.rename(columns={'page': item}, inplace=True)\n",
    "    column = dataset.columns.tolist()[-1]\n",
    "\n",
    "    users_current =pd.merge(users_current, dataset, how='left', on='user_id')\n",
    "    users_current[item].fillna('null', inplace=True) #因为是左连接，没有浏览页面的用户会是空值，填充0\n",
    "\n",
    "#将home_page等列的字符数据替换成数值型数据\n",
    "#users_current.head()\n",
    "for item in page_list[-5:-1]:\n",
    "    users_current[item]= users_current[item].map({item: 1, 'null': 0})\n",
    "\n",
    "users_current['payment_confirmation'] = users_current['payment_confirmation'].map({'payment_confirmation_page': 1, 'null':0})\n",
    "users_current.rename(columns={'payment_confirmation': 'confirmation_page'}, inplace=True)\n",
    "\n",
    "users_current.head()"
   ]
  },
  {
   "cell_type": "code",
   "execution_count": 24,
   "metadata": {},
   "outputs": [
    {
     "data": {
      "text/plain": [
       "0"
      ]
     },
     "execution_count": 24,
     "metadata": {},
     "output_type": "execute_result"
    }
   ],
   "source": [
    "#去年数据的探索\n",
    "\n",
    "users_last.describe()\n",
    "#去年数据，年龄最大的为123岁，可以看出这里有异常数据\n",
    "users_last.boxplot(column=['age'])\n",
    "#把100岁以上的数据是从哪壶\n",
    "users_last = users_last[users_last['age']<100]\n",
    "#users_last.info()\n",
    "users_last.isnull().sum() #无缺失值\n",
    "users_last.duplicated().sum() #无重复值\n"
   ]
  },
  {
   "cell_type": "code",
   "execution_count": 25,
   "metadata": {},
   "outputs": [
    {
     "data": {
      "image/png": "[encoded data removed]",
      "text/plain": [
       "<Figure size 640x480 with 1 Axes>"
      ]
     },
     "metadata": {},
     "output_type": "display_data"
    },
    {
     "data": {
      "text/plain": [
       "user_id                  0\n",
       "new_user                 0\n",
       "age                      0\n",
       "sex                    773\n",
       "country                 61\n",
       "device                 133\n",
       "operative_system       217\n",
       "source                 123\n",
       "total_pages_visited      0\n",
       "home_page                0\n",
       "listing_page             0\n",
       "product_page             0\n",
       "payment_page             0\n",
       "confirmation_page        0\n",
       "dtype: int64"
      ]
     },
     "execution_count": 25,
     "metadata": {},
     "output_type": "execute_result"
    }
   ],
   "source": [
    "#今年数据的探索\n",
    "users_current.describe() #年龄同样有异常\n",
    "plt.boxplot(users_current['age'])\n",
    "plt.show()\n",
    "#把100岁以上的数据剔除\n",
    "users_current = users_current[users_current['age'] <100]\n",
    "users_current.head()\n",
    "\n",
    "users_current.isnull().sum()\n",
    "#可以看到sex，country， device，operative_system， source字段都有缺失值\n",
    "\n"
   ]
  },
  {
   "cell_type": "code",
   "execution_count": 26,
   "metadata": {},
   "outputs": [
    {
     "data": {
      "text/plain": [
       "user_id                  0\n",
       "new_user                 0\n",
       "age                      0\n",
       "sex                    773\n",
       "country                  0\n",
       "device                 133\n",
       "operative_system       217\n",
       "source                   0\n",
       "total_pages_visited      0\n",
       "home_page                0\n",
       "listing_page             0\n",
       "product_page             0\n",
       "payment_page             0\n",
       "confirmation_page        0\n",
       "dtype: int64"
      ]
     },
     "execution_count": 26,
     "metadata": {},
     "output_type": "execute_result"
    }
   ],
   "source": [
    "users_current.country.value_counts()\n",
    "#country属性中us的数量最多，我们用‘us’填充\n",
    "users_current['country'].fillna('US', inplace=True)\n",
    "\n",
    "#source\n",
    "users_current.groupby(['new_user', 'source']).user_id.count()\n",
    "#我们可以看到，新用户主要是来着seo，老用户来自于Direct\n",
    "\n",
    "users_current.loc[users_current['new_user']==0].source.isnull().sum() #老用户有87个缺失值\n",
    "users_current.loc[users_current['new_user']==1].source.isnull().sum() #新用户有36个缺失值\n",
    "\n",
    "#这里我们用对应的众数来填充\n",
    "users_current.loc[(users_current['new_user']==1) & (users_current['source'].isnull()), 'source'] ='Seo'\n",
    "users_current.loc[(users_current['new_user']==0) & (users_current['source'].isnull()), 'source'] ='Direct'\n",
    "\n",
    "\n",
    "users_current.isnull().sum()\n"
   ]
  },
  {
   "cell_type": "code",
   "execution_count": 27,
   "metadata": {},
   "outputs": [
    {
     "data": {
      "text/plain": [
       "device   operative_system\n",
       "desktop  linux                1185\n",
       "         mac                  7204\n",
       "         other                  38\n",
       "         windows             28677\n",
       "mobile   android             21325\n",
       "         iOS                 27223\n",
       "         other                4400\n",
       "Name: user_id, dtype: int64"
      ]
     },
     "execution_count": 27,
     "metadata": {},
     "output_type": "execute_result"
    }
   ],
   "source": [
    "users_current.groupby(['device', 'operative_system']).user_id.count()\n",
    "#desktop多是windows， mobile多是ios"
   ]
  },
  {
   "cell_type": "code",
   "execution_count": 28,
   "metadata": {},
   "outputs": [
    {
     "data": {
      "text/html": [
       "<div>\n",
       "<style scoped>\n",
       "    .dataframe tbody tr th:only-of-type {\n",
       "        vertical-align: middle;\n",
       "    }\n",
       "\n",
       "    .dataframe tbody tr th {\n",
       "        vertical-align: top;\n",
       "    }\n",
       "\n",
       "    .dataframe thead th {\n",
       "        text-align: right;\n",
       "    }\n",
       "</style>\n",
       "<table border=\"1\" class=\"dataframe\">\n",
       "  <thead>\n",
       "    <tr style=\"text-align: right;\">\n",
       "      <th></th>\n",
       "      <th>user_id</th>\n",
       "      <th>new_user</th>\n",
       "      <th>age</th>\n",
       "      <th>sex</th>\n",
       "      <th>country</th>\n",
       "      <th>device</th>\n",
       "      <th>operative_system</th>\n",
       "      <th>source</th>\n",
       "      <th>total_pages_visited</th>\n",
       "      <th>home_page</th>\n",
       "      <th>listing_page</th>\n",
       "      <th>product_page</th>\n",
       "      <th>payment_page</th>\n",
       "      <th>confirmation_page</th>\n",
       "    </tr>\n",
       "  </thead>\n",
       "  <tbody>\n",
       "    <tr>\n",
       "      <th>8502</th>\n",
       "      <td>561375</td>\n",
       "      <td>1</td>\n",
       "      <td>36</td>\n",
       "      <td>Female</td>\n",
       "      <td>China</td>\n",
       "      <td>NaN</td>\n",
       "      <td>NaN</td>\n",
       "      <td>Ads</td>\n",
       "      <td>1</td>\n",
       "      <td>1</td>\n",
       "      <td>0</td>\n",
       "      <td>0</td>\n",
       "      <td>0</td>\n",
       "      <td>0</td>\n",
       "    </tr>\n",
       "    <tr>\n",
       "      <th>12227</th>\n",
       "      <td>252135</td>\n",
       "      <td>0</td>\n",
       "      <td>37</td>\n",
       "      <td>Female</td>\n",
       "      <td>China</td>\n",
       "      <td>NaN</td>\n",
       "      <td>NaN</td>\n",
       "      <td>Direct</td>\n",
       "      <td>6</td>\n",
       "      <td>1</td>\n",
       "      <td>1</td>\n",
       "      <td>1</td>\n",
       "      <td>0</td>\n",
       "      <td>0</td>\n",
       "    </tr>\n",
       "    <tr>\n",
       "      <th>24241</th>\n",
       "      <td>602831</td>\n",
       "      <td>0</td>\n",
       "      <td>39</td>\n",
       "      <td>Female</td>\n",
       "      <td>China</td>\n",
       "      <td>NaN</td>\n",
       "      <td>NaN</td>\n",
       "      <td>Seo</td>\n",
       "      <td>4</td>\n",
       "      <td>1</td>\n",
       "      <td>1</td>\n",
       "      <td>1</td>\n",
       "      <td>1</td>\n",
       "      <td>0</td>\n",
       "    </tr>\n",
       "    <tr>\n",
       "      <th>33022</th>\n",
       "      <td>190794</td>\n",
       "      <td>0</td>\n",
       "      <td>39</td>\n",
       "      <td>Female</td>\n",
       "      <td>China</td>\n",
       "      <td>NaN</td>\n",
       "      <td>NaN</td>\n",
       "      <td>Seo</td>\n",
       "      <td>6</td>\n",
       "      <td>1</td>\n",
       "      <td>1</td>\n",
       "      <td>1</td>\n",
       "      <td>0</td>\n",
       "      <td>0</td>\n",
       "    </tr>\n",
       "  </tbody>\n",
       "</table>\n",
       "</div>"
      ],
      "text/plain": [
       "       user_id  new_user  age     sex country device operative_system  source  \\\n",
       "8502    561375         1   36  Female   China    NaN              NaN     Ads   \n",
       "12227   252135         0   37  Female   China    NaN              NaN  Direct   \n",
       "24241   602831         0   39  Female   China    NaN              NaN     Seo   \n",
       "33022   190794         0   39  Female   China    NaN              NaN     Seo   \n",
       "\n",
       "       total_pages_visited  home_page  listing_page  product_page  \\\n",
       "8502                     1          1             0             0   \n",
       "12227                    6          1             1             1   \n",
       "24241                    4          1             1             1   \n",
       "33022                    6          1             1             1   \n",
       "\n",
       "       payment_page  confirmation_page  \n",
       "8502              0                  0  \n",
       "12227             0                  0  \n",
       "24241             1                  0  \n",
       "33022             0                  0  "
      ]
     },
     "execution_count": 28,
     "metadata": {},
     "output_type": "execute_result"
    }
   ],
   "source": [
    "users_current.loc[(users_current['operative_system'].isin(['linux', 'mac', 'windows'])) & (users_current['device'].isnull()), 'device'] = 'desktop'\n",
    "users_current.loc[(users_current['operative_system'].isin(['iOS', 'android', 'other'])) & (users_current['device'].isnull()), 'device'] = 'mobile'\n",
    "\n",
    "users_current.loc[(users_current['device'] =='desktop') & (users_current['operative_system']).isnull(), 'operative_system'] = 'windows'\n",
    "users_current.loc[(users_current['device'] =='mobile') & (users_current['operative_system']).isnull(), 'operative_system'] = 'iOS'\n",
    "\n",
    "#users_current.isnull().sum()\n",
    "users_current[users_current['device'].isnull()]\n",
    "\n",
    "#可以发现存在少量的缺失值没有填充,这些缺失值是因为device，和operative_system的值都为空，由于数量少可以用总体的\n",
    "#众数来填充\n"
   ]
  },
  {
   "cell_type": "code",
   "execution_count": 29,
   "metadata": {},
   "outputs": [
    {
     "name": "stdout",
     "output_type": "stream",
     "text": [
      "<class 'pandas.core.frame.DataFrame'>\n",
      "Index: 90398 entries, 0 to 90399\n",
      "Data columns (total 14 columns):\n",
      " #   Column               Non-Null Count  Dtype \n",
      "---  ------               --------------  ----- \n",
      " 0   user_id              90398 non-null  int64 \n",
      " 1   new_user             90398 non-null  int64 \n",
      " 2   age                  90398 non-null  int64 \n",
      " 3   sex                  90398 non-null  object\n",
      " 4   country              90398 non-null  object\n",
      " 5   device               90398 non-null  object\n",
      " 6   operative_system     90398 non-null  object\n",
      " 7   source               90398 non-null  object\n",
      " 8   total_pages_visited  90398 non-null  int64 \n",
      " 9   home_page            90398 non-null  int64 \n",
      " 10  listing_page         90398 non-null  int64 \n",
      " 11  product_page         90398 non-null  int64 \n",
      " 12  payment_page         90398 non-null  int64 \n",
      " 13  confirmation_page    90398 non-null  int64 \n",
      "dtypes: int64(9), object(5)\n",
      "memory usage: 10.3+ MB\n"
     ]
    }
   ],
   "source": [
    "users_current.device.value_counts() #device的众数是mobile\n",
    "users_current.operative_system.value_counts() #operative_system的众数是windows\n",
    "\n",
    "users_current.loc[users_current['device'].isnull(), 'device'] = 'mobile'\n",
    "users_current.device.isnull().sum()\n",
    "users_current.loc[users_current['operative_system'].isnull(), 'operative_system'] = 'windows'\n",
    "\n",
    "users_current.isnull().sum()\n",
    "\n",
    "\n",
    "#sex\n",
    "users_current.sex.value_counts() #用female众来填充\n",
    "users_current.loc[users_current['sex'].isnull(), 'sex'] = 'Female'\n",
    "users_current.isnull().sum()\n",
    "\n",
    "#重复值,无重复值\n",
    "users_current.duplicated().sum()\n",
    "\n",
    "users_current.info()"
   ]
  },
  {
   "cell_type": "code",
   "execution_count": 30,
   "metadata": {},
   "outputs": [
    {
     "name": "stdout",
     "output_type": "stream",
     "text": [
      "去年的付费人数是: 1432\n",
      "今年的付费人数是: 1994\n"
     ]
    },
    {
     "data": {
      "text/plain": [
       "new_user\n",
       "0    41020\n",
       "1    18393\n",
       "Name: confirmation_page, dtype: int64"
      ]
     },
     "execution_count": 30,
     "metadata": {},
     "output_type": "execute_result"
    }
   ],
   "source": [
    "#GMV = 付费人数*客单价\n",
    "#付费人数可以通过confirmation_page=1来统计，我们对比下去年和今年的付款人数的差异\n",
    "pay_users_last = users_last.loc[users_last['confirmation_page']==1].user_id.count()\n",
    "pay_users_current = users_current.loc[users_current['confirmation_page']==1].user_id.count()\n",
    "\n",
    "print('去年的付费人数是: {}'.format(pay_users_last))\n",
    "print('今年的付费人数是: {}'.format(pay_users_current))\n",
    "\n",
    "#我们可以看到，今年的付费人数1994，比去年的1432是上涨的，但是GMV下降了，那说明肯定是客单价下降了\n",
    "\n",
    "#我们继续分析客单价下降的原因，通过拆解用户指标，将用户分为新用户和老用户，分别算下新老用户的购买情况\n",
    "users_last.groupby('new_user').confirmation_page.count()\n"
   ]
  },
  {
   "cell_type": "code",
   "execution_count": 31,
   "metadata": {},
   "outputs": [
    {
     "data": {
      "text/html": [
       "<div>\n",
       "<style scoped>\n",
       "    .dataframe tbody tr th:only-of-type {\n",
       "        vertical-align: middle;\n",
       "    }\n",
       "\n",
       "    .dataframe tbody tr th {\n",
       "        vertical-align: top;\n",
       "    }\n",
       "\n",
       "    .dataframe thead tr th {\n",
       "        text-align: left;\n",
       "    }\n",
       "\n",
       "    .dataframe thead tr:last-of-type th {\n",
       "        text-align: right;\n",
       "    }\n",
       "</style>\n",
       "<table border=\"1\" class=\"dataframe\">\n",
       "  <thead>\n",
       "    <tr>\n",
       "      <th></th>\n",
       "      <th></th>\n",
       "      <th colspan=\"6\" halign=\"left\">count</th>\n",
       "      <th colspan=\"6\" halign=\"left\">sum</th>\n",
       "    </tr>\n",
       "    <tr>\n",
       "      <th></th>\n",
       "      <th>age_cut</th>\n",
       "      <th>(10, 20]</th>\n",
       "      <th>(20, 30]</th>\n",
       "      <th>(30, 40]</th>\n",
       "      <th>(40, 50]</th>\n",
       "      <th>(50, 60]</th>\n",
       "      <th>(60, 70]</th>\n",
       "      <th>(10, 20]</th>\n",
       "      <th>(20, 30]</th>\n",
       "      <th>(30, 40]</th>\n",
       "      <th>(40, 50]</th>\n",
       "      <th>(50, 60]</th>\n",
       "      <th>(60, 70]</th>\n",
       "    </tr>\n",
       "    <tr>\n",
       "      <th>new_user</th>\n",
       "      <th>sex</th>\n",
       "      <th></th>\n",
       "      <th></th>\n",
       "      <th></th>\n",
       "      <th></th>\n",
       "      <th></th>\n",
       "      <th></th>\n",
       "      <th></th>\n",
       "      <th></th>\n",
       "      <th></th>\n",
       "      <th></th>\n",
       "      <th></th>\n",
       "      <th></th>\n",
       "    </tr>\n",
       "  </thead>\n",
       "  <tbody>\n",
       "    <tr>\n",
       "      <th rowspan=\"2\" valign=\"top\">0</th>\n",
       "      <th>Female</th>\n",
       "      <td>51.28</td>\n",
       "      <td>55.23</td>\n",
       "      <td>52.60</td>\n",
       "      <td>53.31</td>\n",
       "      <td>45.98</td>\n",
       "      <td>64.71</td>\n",
       "      <td>223.26</td>\n",
       "      <td>39.22</td>\n",
       "      <td>68.60</td>\n",
       "      <td>900.0</td>\n",
       "      <td>-100.0</td>\n",
       "      <td>NaN</td>\n",
       "    </tr>\n",
       "    <tr>\n",
       "      <th>Male</th>\n",
       "      <td>58.92</td>\n",
       "      <td>48.83</td>\n",
       "      <td>49.13</td>\n",
       "      <td>52.30</td>\n",
       "      <td>54.87</td>\n",
       "      <td>20.00</td>\n",
       "      <td>176.67</td>\n",
       "      <td>-0.54</td>\n",
       "      <td>48.65</td>\n",
       "      <td>200.0</td>\n",
       "      <td>-100.0</td>\n",
       "      <td>NaN</td>\n",
       "    </tr>\n",
       "    <tr>\n",
       "      <th rowspan=\"2\" valign=\"top\">1</th>\n",
       "      <th>Female</th>\n",
       "      <td>47.33</td>\n",
       "      <td>55.52</td>\n",
       "      <td>53.78</td>\n",
       "      <td>46.03</td>\n",
       "      <td>47.14</td>\n",
       "      <td>14.29</td>\n",
       "      <td>35.14</td>\n",
       "      <td>-16.06</td>\n",
       "      <td>27.78</td>\n",
       "      <td>-40.0</td>\n",
       "      <td>-100.0</td>\n",
       "      <td>NaN</td>\n",
       "    </tr>\n",
       "    <tr>\n",
       "      <th>Male</th>\n",
       "      <td>53.60</td>\n",
       "      <td>48.60</td>\n",
       "      <td>48.18</td>\n",
       "      <td>52.53</td>\n",
       "      <td>47.96</td>\n",
       "      <td>160.00</td>\n",
       "      <td>-37.50</td>\n",
       "      <td>-35.71</td>\n",
       "      <td>-11.76</td>\n",
       "      <td>-50.0</td>\n",
       "      <td>NaN</td>\n",
       "      <td>NaN</td>\n",
       "    </tr>\n",
       "  </tbody>\n",
       "</table>\n",
       "</div>"
      ],
      "text/plain": [
       "                   count                                               \\\n",
       "age_cut         (10, 20] (20, 30] (30, 40] (40, 50] (50, 60] (60, 70]   \n",
       "new_user sex                                                            \n",
       "0        Female    51.28    55.23    52.60    53.31    45.98    64.71   \n",
       "         Male      58.92    48.83    49.13    52.30    54.87    20.00   \n",
       "1        Female    47.33    55.52    53.78    46.03    47.14    14.29   \n",
       "         Male      53.60    48.60    48.18    52.53    47.96   160.00   \n",
       "\n",
       "                     sum                                               \n",
       "age_cut         (10, 20] (20, 30] (30, 40] (40, 50] (50, 60] (60, 70]  \n",
       "new_user sex                                                           \n",
       "0        Female   223.26    39.22    68.60    900.0   -100.0      NaN  \n",
       "         Male     176.67    -0.54    48.65    200.0   -100.0      NaN  \n",
       "1        Female    35.14   -16.06    27.78    -40.0   -100.0      NaN  \n",
       "         Male     -37.50   -35.71   -11.76    -50.0      NaN      NaN  "
      ]
     },
     "execution_count": 31,
     "metadata": {},
     "output_type": "execute_result"
    }
   ],
   "source": [
    "users_last.groupby('new_user').confirmation_page.sum()\n",
    "agg_last = pd.pivot_table(users_last, values='confirmation_page', index='new_user', aggfunc=['count', 'sum'])\n",
    "agg_current = pd.pivot_table(users_current, values='confirmation_page', index='new_user', aggfunc=['count', 'sum'])\n",
    "round((agg_current-agg_last)/agg_last*100, 2)\n",
    "\n",
    "#从客户维度对付款人数下钻可以发现\n",
    "#付款人数中老用户涨幅57.69%，新用户比去年下降了12.17%\n",
    "#付费人数中，老客户增长多于新客户的减少，所以总体上付费人数是增加的。\n",
    "\n",
    "#那我们研究下哪些用户减少了,有几个维度：age、sex、country、device、operative_system、source\n",
    "#users_current.info()\n",
    "\n",
    "def pivot(index, column):\n",
    "    agg_last = pd.pivot_table(users_last, values='confirmation_page', index=index, columns=column, aggfunc=['count', 'sum'])\n",
    "    agg_current = pd.pivot_table(users_current, values='confirmation_page', index=index, columns=column, aggfunc=['count', 'sum'])\n",
    "\n",
    "    return round((agg_current-agg_last)/agg_last*100, 2)\n",
    "\n",
    "#新老客户&性别\n",
    "sex_rate = pivot('new_user', 'sex' )\n",
    "sex_rate\n",
    "#从性别维度下钻可以发现：\n",
    "#新老用户的男女增长率基本都在50%以上无明显差别，付费用户中老用户的男性涨幅明显低于女性，说明更能吸引\n",
    "#老客户中的女性用户来复购\n",
    "#新用户中，男女付费的用户量都减少了，男性的付款人数更是达到了-32.38%\n",
    "\n",
    "#新老客户*国家\n",
    "country_rate = pivot('new_user', 'country')\n",
    "country_rate\n",
    "#从国家维度下钻可以发现：\n",
    "#新用户付费人数减少的主要是China和UK用户，增速分别为33.33和20.78\n",
    "\n",
    "#新客*设备*系统\n",
    "device_operate_rate = pivot(['new_user', 'device'], 'operative_system')\n",
    "device_operate_rate\n",
    "#从设备及系统维度下钻可以发现：\n",
    "#新用户付费人数减少主要是mobile移动端的数据减少，android的减少率高达-24.36\t\n",
    "\n",
    "#新客*来源\n",
    "source_rate =  pivot('new_user', 'source')\n",
    "source_rate\n",
    "#从客户来源的角度下钻可以发现\n",
    "#Direct途径的新用户付费人数下降了77.91，其他途径的新用户付费人数呈上升趋势\n",
    "\n",
    "#新客跟年龄\n",
    "#对年龄进行分箱操作，将连续数据离散化\n",
    "bins = [0, 10, 20, 30, 40, 50, 60, 70]\n",
    "users_current['age_cut'] = pd.cut(users_current.age, bins=bins).astype('str')\n",
    "users_last['age_cut'] = pd.cut(users_last.age, bins=bins).astype('str')\n",
    "\n",
    "age_cut_rate = pivot('new_user', 'age_cut')\n",
    "age_cut_rate\n",
    "#从年龄维度下钻可以发现\n",
    "#用户在【25，35】年龄区间的人数是最多的，虽然今年各个年龄区间的人数都基本有50%的涨幅\n",
    "#但是今年新用户中，年龄在【20，30】区间的付费人数下降了21.29，【40-50】岁的购买率下降了42.86\n",
    "#而老用户中，20岁以下的付费人数涨幅是211.21%，【20-30】的付费人数涨幅是29.05%，说明吸引老用户中的年轻人复购有明显作用\n",
    "\n",
    "\n",
    "#新客*年龄*性别\n",
    "age_sex_rate = pivot(['new_user', 'sex'], 'age_cut')\n",
    "age_sex_rate\n",
    "#从年龄和性别角度下钻，\n",
    "#新客户中，各个年龄段的男性付费人数都在下降，【20-30】阶段的女性付费人数下降了16.06， (40, 50]夹断的女性付费人数下降了40%\n"
   ]
  },
  {
   "cell_type": "code",
   "execution_count": 32,
   "metadata": {},
   "outputs": [
    {
     "data": {
      "text/html": [
       "<div>\n",
       "<style scoped>\n",
       "    .dataframe tbody tr th:only-of-type {\n",
       "        vertical-align: middle;\n",
       "    }\n",
       "\n",
       "    .dataframe tbody tr th {\n",
       "        vertical-align: top;\n",
       "    }\n",
       "\n",
       "    .dataframe thead tr th {\n",
       "        text-align: left;\n",
       "    }\n",
       "\n",
       "    .dataframe thead tr:last-of-type th {\n",
       "        text-align: right;\n",
       "    }\n",
       "</style>\n",
       "<table border=\"1\" class=\"dataframe\">\n",
       "  <thead>\n",
       "    <tr>\n",
       "      <th></th>\n",
       "      <th></th>\n",
       "      <th></th>\n",
       "      <th></th>\n",
       "      <th>count</th>\n",
       "      <th>sum</th>\n",
       "    </tr>\n",
       "    <tr>\n",
       "      <th></th>\n",
       "      <th></th>\n",
       "      <th></th>\n",
       "      <th></th>\n",
       "      <th>confirmation_page</th>\n",
       "      <th>confirmation_page</th>\n",
       "    </tr>\n",
       "    <tr>\n",
       "      <th>home_page</th>\n",
       "      <th>listing_page</th>\n",
       "      <th>product_page</th>\n",
       "      <th>payment_page</th>\n",
       "      <th></th>\n",
       "      <th></th>\n",
       "    </tr>\n",
       "  </thead>\n",
       "  <tbody>\n",
       "    <tr>\n",
       "      <th rowspan=\"4\" valign=\"top\">1</th>\n",
       "      <th>0</th>\n",
       "      <th>0</th>\n",
       "      <th>0</th>\n",
       "      <td>24007</td>\n",
       "      <td>0</td>\n",
       "    </tr>\n",
       "    <tr>\n",
       "      <th rowspan=\"3\" valign=\"top\">1</th>\n",
       "      <th>0</th>\n",
       "      <th>0</th>\n",
       "      <td>21191</td>\n",
       "      <td>0</td>\n",
       "    </tr>\n",
       "    <tr>\n",
       "      <th rowspan=\"2\" valign=\"top\">1</th>\n",
       "      <th>0</th>\n",
       "      <td>39170</td>\n",
       "      <td>0</td>\n",
       "    </tr>\n",
       "    <tr>\n",
       "      <th>1</th>\n",
       "      <td>6030</td>\n",
       "      <td>1994</td>\n",
       "    </tr>\n",
       "  </tbody>\n",
       "</table>\n",
       "</div>"
      ],
      "text/plain": [
       "                                                             count  \\\n",
       "                                                 confirmation_page   \n",
       "home_page listing_page product_page payment_page                     \n",
       "1         0            0            0                        24007   \n",
       "          1            0            0                        21191   \n",
       "                       1            0                        39170   \n",
       "                                    1                         6030   \n",
       "\n",
       "                                                               sum  \n",
       "                                                 confirmation_page  \n",
       "home_page listing_page product_page payment_page                    \n",
       "1         0            0            0                            0  \n",
       "          1            0            0                            0  \n",
       "                       1            0                            0  \n",
       "                                    1                         1994  "
      ]
     },
     "execution_count": 32,
     "metadata": {},
     "output_type": "execute_result"
    }
   ],
   "source": [
    "#用户行为路径\n",
    "#一般的用户路径是home_page -> listing_page -> product_page -> payment_page -> confirmating_page\n",
    "\n",
    "last_rate = pd.pivot_table(\n",
    "    users_last,\n",
    "    index=['home_page', 'listing_page', 'product_page', 'payment_page'],\n",
    "    values='confirmation_page',\n",
    "    aggfunc=['count', 'sum']\n",
    ")\n",
    "last_rate\n",
    "\n",
    "current_rate = pd.pivot_table(\n",
    "    users_current,\n",
    "    index=['home_page', 'listing_page', 'product_page', 'payment_page'],\n",
    "    values='confirmation_page',\n",
    "    aggfunc=['count', 'sum']\n",
    ")\n",
    "current_rate\n",
    "\n",
    "#从用户行为路径下钻我们发现\n",
    "#去年的数据由很多用户的消费是跳过中间路径的，直接就达到了confirmation_page\n",
    "#说明减少用户的行为路径对付费用户数量的提升有一定的帮助。\n",
    "\n",
    "#接下来，我们再对公式进一步拆解，可以得到\n",
    "#GMV = 用户人数*转化率*客单价\n",
    "#用户人数较去年有很大的增长，我们接下来探索下转化率"
   ]
  },
  {
   "cell_type": "code",
   "execution_count": 33,
   "metadata": {},
   "outputs": [
    {
     "name": "stdout",
     "output_type": "stream",
     "text": [
      "去年的转化率: 2.410246915658189\n",
      "今年的转化率: 2.205801013296754\n",
      "今年比去年: -0.20444590236143512\n",
      "新老用户的增长情况: \n",
      " new_user\n",
      "0    0.000888\n",
      "1   -0.008642\n",
      "Name: confirmation_page, dtype: float64\n"
     ]
    }
   ],
   "source": [
    "#转化率\n",
    "last_trans = users_last.confirmation_page.mean()*100\n",
    "current_trans = users_current.confirmation_page.mean()*100\n",
    "\n",
    "print('去年的转化率: {}'.format(last_trans))\n",
    "print('今年的转化率: {}'.format(current_trans))\n",
    "print('今年比去年: {}'.format((current_trans - last_trans)))\n",
    "\n",
    "#可见今年的转化率比去年略低\n",
    "\n",
    "#从新老用户角度分析\n",
    "last = users_last.groupby('new_user').confirmation_page.mean()\n",
    "current = users_current.groupby('new_user').confirmation_page.mean()\n",
    "print('新老用户的增长情况: \\n', current-last)\n",
    "\n",
    "#今年新用户的转化率比去年降低了0.87%，老用户的转化率却只提高了0.0888%\n",
    "#路径转化率"
   ]
  },
  {
   "cell_type": "code",
   "execution_count": 34,
   "metadata": {},
   "outputs": [
    {
     "data": {
      "application/vnd.plotly.v1+json": {
       "config": {
        "displayModeBar": false,
        "plotlyServerURL": "https://plot.ly"
       },
       "data": [
        {
         "name": "last",
         "texttemplate": "%{x}%",
         "type": "funnel",
         "x": [
          73.41,
          68.02,
          13.35,
          36.16,
          null
         ],
         "y": [
          "home_page->listing_page",
          "listing_page->product_page",
          "product_page->payment_page",
          "payment_page->confirmation_page"
         ]
        },
        {
         "name": "current",
         "texttemplate": "%{x}%",
         "type": "funnel",
         "x": [
          73.44,
          68.08,
          13.34,
          33.07,
          null
         ],
         "y": [
          "home_page->listing_page",
          "listing_page->product_page",
          "product_page->payment_page",
          "payment_page->confirmation_page"
         ]
        }
       ],
       "layout": {
        "dragmode": false,
        "template": {
         "data": {
          "bar": [
           {
            "error_x": {
             "color": "#2a3f5f"
            },
            "error_y": {
             "color": "#2a3f5f"
            },
            "marker": {
             "line": {
              "color": "#E5ECF6",
              "width": 0.5
             },
             "pattern": {
              "fillmode": "overlay",
              "size": 10,
              "solidity": 0.2
             }
            },
            "type": "bar"
           }
          ],
          "barpolar": [
           {
            "marker": {
             "line": {
              "color": "#E5ECF6",
              "width": 0.5
             },
             "pattern": {
              "fillmode": "overlay",
              "size": 10,
              "solidity": 0.2
             }
            },
            "type": "barpolar"
           }
          ],
          "carpet": [
           {
            "aaxis": {
             "endlinecolor": "#2a3f5f",
             "gridcolor": "white",
             "linecolor": "white",
             "minorgridcolor": "white",
             "startlinecolor": "#2a3f5f"
            },
            "baxis": {
             "endlinecolor": "#2a3f5f",
             "gridcolor": "white",
             "linecolor": "white",
             "minorgridcolor": "white",
             "startlinecolor": "#2a3f5f"
            },
            "type": "carpet"
           }
          ],
          "choropleth": [
           {
            "colorbar": {
             "outlinewidth": 0,
             "ticks": ""
            },
            "type": "choropleth"
           }
          ],
          "contour": [
           {
            "colorbar": {
             "outlinewidth": 0,
             "ticks": ""
            },
            "colorscale": [
             [
              0,
              "#0d0887"
             ],
             [
              0.1111111111111111,
              "#46039f"
             ],
             [
              0.2222222222222222,
              "#7201a8"
             ],
             [
              0.3333333333333333,
              "#9c179e"
             ],
             [
              0.4444444444444444,
              "#bd3786"
             ],
             [
              0.5555555555555556,
              "#d8576b"
             ],
             [
              0.6666666666666666,
              "#ed7953"
             ],
             [
              0.7777777777777778,
              "#fb9f3a"
             ],
             [
              0.8888888888888888,
              "#fdca26"
             ],
             [
              1,
              "#f0f921"
             ]
            ],
            "type": "contour"
           }
          ],
          "contourcarpet": [
           {
            "colorbar": {
             "outlinewidth": 0,
             "ticks": ""
            },
            "type": "contourcarpet"
           }
          ],
          "heatmap": [
           {
            "colorbar": {
             "outlinewidth": 0,
             "ticks": ""
            },
            "colorscale": [
             [
              0,
              "#0d0887"
             ],
             [
              0.1111111111111111,
              "#46039f"
             ],
             [
              0.2222222222222222,
              "#7201a8"
             ],
             [
              0.3333333333333333,
              "#9c179e"
             ],
             [
              0.4444444444444444,
              "#bd3786"
             ],
             [
              0.5555555555555556,
              "#d8576b"
             ],
             [
              0.6666666666666666,
              "#ed7953"
             ],
             [
              0.7777777777777778,
              "#fb9f3a"
             ],
             [
              0.8888888888888888,
              "#fdca26"
             ],
             [
              1,
              "#f0f921"
             ]
            ],
            "type": "heatmap"
           }
          ],
          "heatmapgl": [
           {
            "colorbar": {
             "outlinewidth": 0,
             "ticks": ""
            },
            "colorscale": [
             [
              0,
              "#0d0887"
             ],
             [
              0.1111111111111111,
              "#46039f"
             ],
             [
              0.2222222222222222,
              "#7201a8"
             ],
             [
              0.3333333333333333,
              "#9c179e"
             ],
             [
              0.4444444444444444,
              "#bd3786"
             ],
             [
              0.5555555555555556,
              "#d8576b"
             ],
             [
              0.6666666666666666,
              "#ed7953"
             ],
             [
              0.7777777777777778,
              "#fb9f3a"
             ],
             [
              0.8888888888888888,
              "#fdca26"
             ],
             [
              1,
              "#f0f921"
             ]
            ],
            "type": "heatmapgl"
           }
          ],
          "histogram": [
           {
            "marker": {
             "pattern": {
              "fillmode": "overlay",
              "size": 10,
              "solidity": 0.2
             }
            },
            "type": "histogram"
           }
          ],
          "histogram2d": [
           {
            "colorbar": {
             "outlinewidth": 0,
             "ticks": ""
            },
            "colorscale": [
             [
              0,
              "#0d0887"
             ],
             [
              0.1111111111111111,
              "#46039f"
             ],
             [
              0.2222222222222222,
              "#7201a8"
             ],
             [
              0.3333333333333333,
              "#9c179e"
             ],
             [
              0.4444444444444444,
              "#bd3786"
             ],
             [
              0.5555555555555556,
              "#d8576b"
             ],
             [
              0.6666666666666666,
              "#ed7953"
             ],
             [
              0.7777777777777778,
              "#fb9f3a"
             ],
             [
              0.8888888888888888,
              "#fdca26"
             ],
             [
              1,
              "#f0f921"
             ]
            ],
            "type": "histogram2d"
           }
          ],
          "histogram2dcontour": [
           {
            "colorbar": {
             "outlinewidth": 0,
             "ticks": ""
            },
            "colorscale": [
             [
              0,
              "#0d0887"
             ],
             [
              0.1111111111111111,
              "#46039f"
             ],
             [
              0.2222222222222222,
              "#7201a8"
             ],
             [
              0.3333333333333333,
              "#9c179e"
             ],
             [
              0.4444444444444444,
              "#bd3786"
             ],
             [
              0.5555555555555556,
              "#d8576b"
             ],
             [
              0.6666666666666666,
              "#ed7953"
             ],
             [
              0.7777777777777778,
              "#fb9f3a"
             ],
             [
              0.8888888888888888,
              "#fdca26"
             ],
             [
              1,
              "#f0f921"
             ]
            ],
            "type": "histogram2dcontour"
           }
          ],
          "mesh3d": [
           {
            "colorbar": {
             "outlinewidth": 0,
             "ticks": ""
            },
            "type": "mesh3d"
           }
          ],
          "parcoords": [
           {
            "line": {
             "colorbar": {
              "outlinewidth": 0,
              "ticks": ""
             }
            },
            "type": "parcoords"
           }
          ],
          "pie": [
           {
            "automargin": true,
            "type": "pie"
           }
          ],
          "scatter": [
           {
            "fillpattern": {
             "fillmode": "overlay",
             "size": 10,
             "solidity": 0.2
            },
            "type": "scatter"
           }
          ],
          "scatter3d": [
           {
            "line": {
             "colorbar": {
              "outlinewidth": 0,
              "ticks": ""
             }
            },
            "marker": {
             "colorbar": {
              "outlinewidth": 0,
              "ticks": ""
             }
            },
            "type": "scatter3d"
           }
          ],
          "scattercarpet": [
           {
            "marker": {
             "colorbar": {
              "outlinewidth": 0,
              "ticks": ""
             }
            },
            "type": "scattercarpet"
           }
          ],
          "scattergeo": [
           {
            "marker": {
             "colorbar": {
              "outlinewidth": 0,
              "ticks": ""
             }
            },
            "type": "scattergeo"
           }
          ],
          "scattergl": [
           {
            "marker": {
             "colorbar": {
              "outlinewidth": 0,
              "ticks": ""
             }
            },
            "type": "scattergl"
           }
          ],
          "scattermapbox": [
           {
            "marker": {
             "colorbar": {
              "outlinewidth": 0,
              "ticks": ""
             }
            },
            "type": "scattermapbox"
           }
          ],
          "scatterpolar": [
           {
            "marker": {
             "colorbar": {
              "outlinewidth": 0,
              "ticks": ""
             }
            },
            "type": "scatterpolar"
           }
          ],
          "scatterpolargl": [
           {
            "marker": {
             "colorbar": {
              "outlinewidth": 0,
              "ticks": ""
             }
            },
            "type": "scatterpolargl"
           }
          ],
          "scatterternary": [
           {
            "marker": {
             "colorbar": {
              "outlinewidth": 0,
              "ticks": ""
             }
            },
            "type": "scatterternary"
           }
          ],
          "surface": [
           {
            "colorbar": {
             "outlinewidth": 0,
             "ticks": ""
            },
            "colorscale": [
             [
              0,
              "#0d0887"
             ],
             [
              0.1111111111111111,
              "#46039f"
             ],
             [
              0.2222222222222222,
              "#7201a8"
             ],
             [
              0.3333333333333333,
              "#9c179e"
             ],
             [
              0.4444444444444444,
              "#bd3786"
             ],
             [
              0.5555555555555556,
              "#d8576b"
             ],
             [
              0.6666666666666666,
              "#ed7953"
             ],
             [
              0.7777777777777778,
              "#fb9f3a"
             ],
             [
              0.8888888888888888,
              "#fdca26"
             ],
             [
              1,
              "#f0f921"
             ]
            ],
            "type": "surface"
           }
          ],
          "table": [
           {
            "cells": {
             "fill": {
              "color": "#EBF0F8"
             },
             "line": {
              "color": "white"
             }
            },
            "header": {
             "fill": {
              "color": "#C8D4E3"
             },
             "line": {
              "color": "white"
             }
            },
            "type": "table"
           }
          ]
         },
         "layout": {
          "annotationdefaults": {
           "arrowcolor": "#2a3f5f",
           "arrowhead": 0,
           "arrowwidth": 1
          },
          "autotypenumbers": "strict",
          "coloraxis": {
           "colorbar": {
            "outlinewidth": 0,
            "ticks": ""
           }
          },
          "colorscale": {
           "diverging": [
            [
             0,
             "#8e0152"
            ],
            [
             0.1,
             "#c51b7d"
            ],
            [
             0.2,
             "#de77ae"
            ],
            [
             0.3,
             "#f1b6da"
            ],
            [
             0.4,
             "#fde0ef"
            ],
            [
             0.5,
             "#f7f7f7"
            ],
            [
             0.6,
             "#e6f5d0"
            ],
            [
             0.7,
             "#b8e186"
            ],
            [
             0.8,
             "#7fbc41"
            ],
            [
             0.9,
             "#4d9221"
            ],
            [
             1,
             "#276419"
            ]
           ],
           "sequential": [
            [
             0,
             "#0d0887"
            ],
            [
             0.1111111111111111,
             "#46039f"
            ],
            [
             0.2222222222222222,
             "#7201a8"
            ],
            [
             0.3333333333333333,
             "#9c179e"
            ],
            [
             0.4444444444444444,
             "#bd3786"
            ],
            [
             0.5555555555555556,
             "#d8576b"
            ],
            [
             0.6666666666666666,
             "#ed7953"
            ],
            [
             0.7777777777777778,
             "#fb9f3a"
            ],
            [
             0.8888888888888888,
             "#fdca26"
            ],
            [
             1,
             "#f0f921"
            ]
           ],
           "sequentialminus": [
            [
             0,
             "#0d0887"
            ],
            [
             0.1111111111111111,
             "#46039f"
            ],
            [
             0.2222222222222222,
             "#7201a8"
            ],
            [
             0.3333333333333333,
             "#9c179e"
            ],
            [
             0.4444444444444444,
             "#bd3786"
            ],
            [
             0.5555555555555556,
             "#d8576b"
            ],
            [
             0.6666666666666666,
             "#ed7953"
            ],
            [
             0.7777777777777778,
             "#fb9f3a"
            ],
            [
             0.8888888888888888,
             "#fdca26"
            ],
            [
             1,
             "#f0f921"
            ]
           ]
          },
          "colorway": [
           "#636efa",
           "#EF553B",
           "#00cc96",
           "#ab63fa",
           "#FFA15A",
           "#19d3f3",
           "#FF6692",
           "#B6E880",
           "#FF97FF",
           "#FECB52"
          ],
          "font": {
           "color": "#2a3f5f"
          },
          "geo": {
           "bgcolor": "white",
           "lakecolor": "white",
           "landcolor": "#E5ECF6",
           "showlakes": true,
           "showland": true,
           "subunitcolor": "white"
          },
          "hoverlabel": {
           "align": "left"
          },
          "hovermode": "closest",
          "mapbox": {
           "style": "light"
          },
          "paper_bgcolor": "white",
          "plot_bgcolor": "#E5ECF6",
          "polar": {
           "angularaxis": {
            "gridcolor": "white",
            "linecolor": "white",
            "ticks": ""
           },
           "bgcolor": "#E5ECF6",
           "radialaxis": {
            "gridcolor": "white",
            "linecolor": "white",
            "ticks": ""
           }
          },
          "scene": {
           "xaxis": {
            "backgroundcolor": "#E5ECF6",
            "gridcolor": "white",
            "gridwidth": 2,
            "linecolor": "white",
            "showbackground": true,
            "ticks": "",
            "zerolinecolor": "white"
           },
           "yaxis": {
            "backgroundcolor": "#E5ECF6",
            "gridcolor": "white",
            "gridwidth": 2,
            "linecolor": "white",
            "showbackground": true,
            "ticks": "",
            "zerolinecolor": "white"
           },
           "zaxis": {
            "backgroundcolor": "#E5ECF6",
            "gridcolor": "white",
            "gridwidth": 2,
            "linecolor": "white",
            "showbackground": true,
            "ticks": "",
            "zerolinecolor": "white"
           }
          },
          "shapedefaults": {
           "line": {
            "color": "#2a3f5f"
           }
          },
          "ternary": {
           "aaxis": {
            "gridcolor": "white",
            "linecolor": "white",
            "ticks": ""
           },
           "baxis": {
            "gridcolor": "white",
            "linecolor": "white",
            "ticks": ""
           },
           "bgcolor": "#E5ECF6",
           "caxis": {
            "gridcolor": "white",
            "linecolor": "white",
            "ticks": ""
           }
          },
          "title": {
           "x": 0.05
          },
          "xaxis": {
           "automargin": true,
           "gridcolor": "white",
           "linecolor": "white",
           "ticks": "",
           "title": {
            "standoff": 15
           },
           "zerolinecolor": "white",
           "zerolinewidth": 2
          },
          "yaxis": {
           "automargin": true,
           "gridcolor": "white",
           "linecolor": "white",
           "ticks": "",
           "title": {
            "standoff": 15
           },
           "zerolinecolor": "white",
           "zerolinewidth": 2
          }
         }
        },
        "title": {
         "text": "用户路径转化率对比图"
        }
       }
      }
     },
     "metadata": {},
     "output_type": "display_data"
    }
   ],
   "source": [
    "#路径转化率\n",
    "last_count = users_last.iloc[:, -6:-1].sum()\n",
    "current_count = users_current.iloc[:, -6:-1].sum()\n",
    "last_count = round(last_count.shift(-1)/last_count*100, 2)\n",
    "current_count = round(current_count.shift(-1)/current_count*100, 2)\n",
    "idx_lst = current_count.index.tolist()\n",
    "\n",
    "idx = []\n",
    "for x, y in zip(idx_lst, idx_lst[1:]):\n",
    "    idx.append(\"{}->{}\".format(x, y))\n",
    "\n",
    "#import plotly.plotly as py\n",
    "#from plotly.offline import init_notebook_mode, iplot\n",
    "#init_notebook_mode(connected=True)\n",
    "import plotly.graph_objs as go\n",
    "\n",
    "fig = go.Figure()\n",
    "fig.add_trace(go.Funnel(name='last', y=idx, x=last_count, texttemplate=\"%{x}%\"))\n",
    "fig.add_trace(go.Funnel(name='current', y=idx, x=current_count, texttemplate=\"%{x}%\"))\n",
    "fig.update_layout(title = '用户路径转化率对比图', dragmode=False)\n",
    "fig.show(config={'displayModeBar': False})\n",
    "\n",
    "\n",
    "#从路径转化率我们可以发现\n",
    "#home_page->listing_page,以及listing_page->product_page的路径转化率都比较高\n",
    "#但product_page -> payment_page转换率仅有13.35%，这个环节有较大的提升\n",
    "#今年与去年相比，前几个路径的转化率基本一致且今年略高于去年，但最终付款环节今年却比去年少了3%。"
   ]
  },
  {
   "cell_type": "code",
   "execution_count": 35,
   "metadata": {},
   "outputs": [
    {
     "data": {
      "text/plain": [
       "age_cut\n",
       "2    63192\n",
       "3    50983\n",
       "1    17080\n",
       "4    16515\n",
       "5     1930\n",
       "6      111\n",
       "Name: count, dtype: int64"
      ]
     },
     "execution_count": 35,
     "metadata": {},
     "output_type": "execute_result"
    }
   ],
   "source": [
    "#数据建模\n",
    "#为了便于业务人员理解，选择了解释性强的决策树模型，用以预测用户是否回消费，了解什么样的人更可能消费\n",
    "\n",
    "dataset = pd.concat([users_last, users_current])\n",
    "dataset.reset_index(drop=True, inplace=True)\n",
    "\n",
    "#性别\n",
    "dataset['sex'] = dataset['sex'].map({'Female': 1, 'Male': 0})\n",
    "dataset.sex.head()\n",
    "\n",
    "#country\n",
    "dataset['country'] = dataset['country'].map({'US': 0, 'China': 1, 'UK': 2, 'Germany': 3})\n",
    "dataset['country'].head()\n",
    "\n",
    "#device\n",
    "dataset['device']= dataset['device'].map({'mobile': 0, 'desktop': 1})\n",
    "dataset['device'].head()\n",
    "\n",
    "#operative_system\n",
    "dataset['operative_system'] = dataset['operative_system'].map({'windows': 0, 'iOS': 1, 'android': 2, 'mac': 3, 'linux': 4, 'other':5})\n",
    "dataset['operative_system'].head()\n",
    "\n",
    "#source\n",
    "dataset['source'] = dataset['source'].map({'Direct': 0, 'Seo': 1, 'Ads': 2})\n",
    "dataset['source'].head()\n",
    "\n",
    "#age_cut\n",
    "dataset['age_cut'] = dataset['age_cut'].map({'(0, 10]': 0, '(10, 20]': 1, '(20, 30]': 2, '(30, 40]': 3, '(40, 50]': 4, '(50, 60]': 5, '(60, 70]': 6})\n",
    "dataset['age_cut'].value_counts()\n",
    "#数据转换完成，我们对数据进行建模"
   ]
  },
  {
   "cell_type": "code",
   "execution_count": 36,
   "metadata": {},
   "outputs": [],
   "source": [
    "from sklearn.tree import DecisionTreeClassifier\n",
    "from sklearn.model_selection import train_test_split, cross_val_score\n",
    "from sklearn.metrics import accuracy_score, precision_score, recall_score, f1_score, roc_auc_score\n",
    "\n",
    "Y = dataset['confirmation_page']\n",
    "x = dataset.drop(columns=['confirmation_page', 'user_id'])\n",
    "\n",
    "#划分实验集和测试集\n",
    "xtrain, xtest, ytrain, ytest = train_test_split(x, Y, test_size=0.2)\n",
    "\n",
    "tr = []\n",
    "te = []\n",
    "#进行模型训练\n",
    "for i in range(10):\n",
    "    clf = DecisionTreeClassifier(random_state=1, max_depth=i+1)\n",
    "    res = clf.fit(xtrain, ytrain)\n",
    "    score_tr = recall_score(ytrain,clf.predict(xtrain))\n",
    "    score_te = cross_val_score(clf,xtest,ytest,cv=10, scoring='recall').mean()\n",
    "    tr.append(score_tr)\n",
    "    te.append(score_te)    \n"
   ]
  },
  {
   "cell_type": "code",
   "execution_count": 37,
   "metadata": {},
   "outputs": [
    {
     "data": {
      "image/png": "[encoded data removed]",
      "text/plain": [
       "<Figure size 640x480 with 1 Axes>"
      ]
     },
     "metadata": {},
     "output_type": "display_data"
    }
   ],
   "source": [
    "\n",
    "plt.plot(range(1,11), tr, color='red', label='train')\n",
    "plt.plot(range(1,11), te, color='blue', label='test')\n",
    "plt.legend()\n",
    "plt.show()"
   ]
  },
  {
   "cell_type": "code",
   "execution_count": 38,
   "metadata": {},
   "outputs": [
    {
     "data": {
      "image/svg+xml": [
       "<?xml version=\"1.0\" encoding=\"UTF-8\" standalone=\"no\"?>\n",
       "<!DOCTYPE svg PUBLIC \"-//W3C//DTD SVG 1.1//EN\"\n",
       " \"http://www.w3.org/Graphics/SVG/1.1/DTD/svg11.dtd\">\n",
       "<!-- Generated by graphviz version 9.0.0 (20230911.1827)\n",
       " -->\n",
       "<!-- Title: Tree Pages: 1 -->\n",
       "<svg width=\"2218pt\" height=\"578pt\"\n",
       " viewBox=\"0.00 0.00 2218.00 578.25\" xmlns=\"http://www.w3.org/2000/svg\" xmlns:xlink=\"http://www.w3.org/1999/xlink\">\n",
       "<g id=\"graph0\" class=\"graph\" transform=\"scale(1 1) rotate(0) translate(4 574.25)\">\n",
       "<title>Tree</title>\n",
       "<polygon fill=\"white\" stroke=\"none\" points=\"-4,4 -4,-574.25 2214,-574.25 2214,4 -4,4\"/>\n",
       "<!-- 0 -->\n",
       "<g id=\"node1\" class=\"node\">\n",
       "<title>0</title>\n",
       "<path fill=\"#e6843e\" stroke=\"black\" d=\"M1242.38,-570.25C1242.38,-570.25 1084.62,-570.25 1084.62,-570.25 1078.62,-570.25 1072.62,-564.25 1072.62,-558.25 1072.62,-558.25 1072.62,-494 1072.62,-494 1072.62,-488 1078.62,-482 1084.62,-482 1084.62,-482 1242.38,-482 1242.38,-482 1248.38,-482 1254.38,-488 1254.38,-494 1254.38,-494 1254.38,-558.25 1254.38,-558.25 1254.38,-564.25 1248.38,-570.25 1242.38,-570.25\"/>\n",
       "<text text-anchor=\"middle\" x=\"1163.5\" y=\"-552.95\" font-family=\"Helvetica,sans-Serif\" font-size=\"14.00\">total_pages_visited &lt;= 15.5</text>\n",
       "<text text-anchor=\"middle\" x=\"1163.5\" y=\"-537.95\" font-family=\"Helvetica,sans-Serif\" font-size=\"14.00\">gini = 0.045</text>\n",
       "<text text-anchor=\"middle\" x=\"1163.5\" y=\"-522.95\" font-family=\"Helvetica,sans-Serif\" font-size=\"14.00\">samples = 149811</text>\n",
       "<text text-anchor=\"middle\" x=\"1163.5\" y=\"-507.95\" font-family=\"Helvetica,sans-Serif\" font-size=\"14.00\">value = [146385, 3426]</text>\n",
       "<text text-anchor=\"middle\" x=\"1163.5\" y=\"-492.95\" font-family=\"Helvetica,sans-Serif\" font-size=\"14.00\">class = 消费</text>\n",
       "</g>\n",
       "<!-- 1 -->\n",
       "<g id=\"node2\" class=\"node\">\n",
       "<title>1</title>\n",
       "<path fill=\"#e5823b\" stroke=\"black\" d=\"M961.5,-446C961.5,-446 831.5,-446 831.5,-446 825.5,-446 819.5,-440 819.5,-434 819.5,-434 819.5,-369.75 819.5,-369.75 819.5,-363.75 825.5,-357.75 831.5,-357.75 831.5,-357.75 961.5,-357.75 961.5,-357.75 967.5,-357.75 973.5,-363.75 973.5,-369.75 973.5,-369.75 973.5,-434 973.5,-434 973.5,-440 967.5,-446 961.5,-446\"/>\n",
       "<text text-anchor=\"middle\" x=\"896.5\" y=\"-428.7\" font-family=\"Helvetica,sans-Serif\" font-size=\"14.00\">payment_page &lt;= 0.5</text>\n",
       "<text text-anchor=\"middle\" x=\"896.5\" y=\"-413.7\" font-family=\"Helvetica,sans-Serif\" font-size=\"14.00\">gini = 0.018</text>\n",
       "<text text-anchor=\"middle\" x=\"896.5\" y=\"-398.7\" font-family=\"Helvetica,sans-Serif\" font-size=\"14.00\">samples = 145399</text>\n",
       "<text text-anchor=\"middle\" x=\"896.5\" y=\"-383.7\" font-family=\"Helvetica,sans-Serif\" font-size=\"14.00\">value = [144043, 1356]</text>\n",
       "<text text-anchor=\"middle\" x=\"896.5\" y=\"-368.7\" font-family=\"Helvetica,sans-Serif\" font-size=\"14.00\">class = 消费</text>\n",
       "</g>\n",
       "<!-- 0&#45;&gt;1 -->\n",
       "<g id=\"edge1\" class=\"edge\">\n",
       "<title>0&#45;&gt;1</title>\n",
       "<path fill=\"none\" stroke=\"black\" d=\"M1072.36,-483.4C1043.84,-470.34 1012.43,-455.96 984.16,-443.01\"/>\n",
       "<polygon fill=\"black\" stroke=\"black\" points=\"985.82,-439.92 975.27,-438.94 982.9,-446.28 985.82,-439.92\"/>\n",
       "<text text-anchor=\"middle\" x=\"982.6\" y=\"-455.94\" font-family=\"Helvetica,sans-Serif\" font-size=\"14.00\">True</text>\n",
       "</g>\n",
       "<!-- 16 -->\n",
       "<g id=\"node17\" class=\"node\">\n",
       "<title>16</title>\n",
       "<path fill=\"#fcf0e8\" stroke=\"black\" d=\"M1488.88,-446C1488.88,-446 1364.12,-446 1364.12,-446 1358.12,-446 1352.12,-440 1352.12,-434 1352.12,-434 1352.12,-369.75 1352.12,-369.75 1352.12,-363.75 1358.12,-357.75 1364.12,-357.75 1364.12,-357.75 1488.88,-357.75 1488.88,-357.75 1494.88,-357.75 1500.88,-363.75 1500.88,-369.75 1500.88,-369.75 1500.88,-434 1500.88,-434 1500.88,-440 1494.88,-446 1488.88,-446\"/>\n",
       "<text text-anchor=\"middle\" x=\"1426.5\" y=\"-428.7\" font-family=\"Helvetica,sans-Serif\" font-size=\"14.00\">payment_page &lt;= 0.5</text>\n",
       "<text text-anchor=\"middle\" x=\"1426.5\" y=\"-413.7\" font-family=\"Helvetica,sans-Serif\" font-size=\"14.00\">gini = 0.498</text>\n",
       "<text text-anchor=\"middle\" x=\"1426.5\" y=\"-398.7\" font-family=\"Helvetica,sans-Serif\" font-size=\"14.00\">samples = 4412</text>\n",
       "<text text-anchor=\"middle\" x=\"1426.5\" y=\"-383.7\" font-family=\"Helvetica,sans-Serif\" font-size=\"14.00\">value = [2342, 2070]</text>\n",
       "<text text-anchor=\"middle\" x=\"1426.5\" y=\"-368.7\" font-family=\"Helvetica,sans-Serif\" font-size=\"14.00\">class = 消费</text>\n",
       "</g>\n",
       "<!-- 0&#45;&gt;16 -->\n",
       "<g id=\"edge16\" class=\"edge\">\n",
       "<title>0&#45;&gt;16</title>\n",
       "<path fill=\"none\" stroke=\"black\" d=\"M1254.75,-482.71C1283.02,-469.57 1314.05,-455.15 1341.86,-442.22\"/>\n",
       "<polygon fill=\"black\" stroke=\"black\" points=\"1342.98,-445.56 1350.57,-438.17 1340.03,-439.21 1342.98,-445.56\"/>\n",
       "<text text-anchor=\"middle\" x=\"1343.37\" y=\"-455.21\" font-family=\"Helvetica,sans-Serif\" font-size=\"14.00\">False</text>\n",
       "</g>\n",
       "<!-- 2 -->\n",
       "<g id=\"node3\" class=\"node\">\n",
       "<title>2</title>\n",
       "<path fill=\"#e5813a\" stroke=\"black\" d=\"M515.75,-321.75C515.75,-321.75 393.25,-321.75 393.25,-321.75 387.25,-321.75 381.25,-315.75 381.25,-309.75 381.25,-309.75 381.25,-245.5 381.25,-245.5 381.25,-239.5 387.25,-233.5 393.25,-233.5 393.25,-233.5 515.75,-233.5 515.75,-233.5 521.75,-233.5 527.75,-239.5 527.75,-245.5 527.75,-245.5 527.75,-309.75 527.75,-309.75 527.75,-315.75 521.75,-321.75 515.75,-321.75\"/>\n",
       "<text text-anchor=\"middle\" x=\"454.5\" y=\"-304.45\" font-family=\"Helvetica,sans-Serif\" font-size=\"14.00\">age &lt;= 30.5</text>\n",
       "<text text-anchor=\"middle\" x=\"454.5\" y=\"-289.45\" font-family=\"Helvetica,sans-Serif\" font-size=\"14.00\">gini = 0.006</text>\n",
       "<text text-anchor=\"middle\" x=\"454.5\" y=\"-274.45\" font-family=\"Helvetica,sans-Serif\" font-size=\"14.00\">samples = 137902</text>\n",
       "<text text-anchor=\"middle\" x=\"454.5\" y=\"-259.45\" font-family=\"Helvetica,sans-Serif\" font-size=\"14.00\">value = [137503, 399]</text>\n",
       "<text text-anchor=\"middle\" x=\"454.5\" y=\"-244.45\" font-family=\"Helvetica,sans-Serif\" font-size=\"14.00\">class = 消费</text>\n",
       "</g>\n",
       "<!-- 1&#45;&gt;2 -->\n",
       "<g id=\"edge2\" class=\"edge\">\n",
       "<title>1&#45;&gt;2</title>\n",
       "<path fill=\"none\" stroke=\"black\" d=\"M819,-379.44C740.57,-357.75 619.66,-324.31 538.86,-301.96\"/>\n",
       "<polygon fill=\"black\" stroke=\"black\" points=\"540.26,-298.71 529.69,-299.42 538.39,-305.46 540.26,-298.71\"/>\n",
       "</g>\n",
       "<!-- 9 -->\n",
       "<g id=\"node10\" class=\"node\">\n",
       "<title>9</title>\n",
       "<path fill=\"#e99356\" stroke=\"black\" d=\"M975.38,-321.75C975.38,-321.75 817.62,-321.75 817.62,-321.75 811.62,-321.75 805.62,-315.75 805.62,-309.75 805.62,-309.75 805.62,-245.5 805.62,-245.5 805.62,-239.5 811.62,-233.5 817.62,-233.5 817.62,-233.5 975.38,-233.5 975.38,-233.5 981.38,-233.5 987.38,-239.5 987.38,-245.5 987.38,-245.5 987.38,-309.75 987.38,-309.75 987.38,-315.75 981.38,-321.75 975.38,-321.75\"/>\n",
       "<text text-anchor=\"middle\" x=\"896.5\" y=\"-304.45\" font-family=\"Helvetica,sans-Serif\" font-size=\"14.00\">total_pages_visited &lt;= 10.5</text>\n",
       "<text text-anchor=\"middle\" x=\"896.5\" y=\"-289.45\" font-family=\"Helvetica,sans-Serif\" font-size=\"14.00\">gini = 0.223</text>\n",
       "<text text-anchor=\"middle\" x=\"896.5\" y=\"-274.45\" font-family=\"Helvetica,sans-Serif\" font-size=\"14.00\">samples = 7497</text>\n",
       "<text text-anchor=\"middle\" x=\"896.5\" y=\"-259.45\" font-family=\"Helvetica,sans-Serif\" font-size=\"14.00\">value = [6540, 957]</text>\n",
       "<text text-anchor=\"middle\" x=\"896.5\" y=\"-244.45\" font-family=\"Helvetica,sans-Serif\" font-size=\"14.00\">class = 消费</text>\n",
       "</g>\n",
       "<!-- 1&#45;&gt;9 -->\n",
       "<g id=\"edge9\" class=\"edge\">\n",
       "<title>1&#45;&gt;9</title>\n",
       "<path fill=\"none\" stroke=\"black\" d=\"M896.5,-357.43C896.5,-349.59 896.5,-341.33 896.5,-333.23\"/>\n",
       "<polygon fill=\"black\" stroke=\"black\" points=\"900,-333.44 896.5,-323.44 893,-333.44 900,-333.44\"/>\n",
       "</g>\n",
       "<!-- 3 -->\n",
       "<g id=\"node4\" class=\"node\">\n",
       "<title>3</title>\n",
       "<path fill=\"#e5823a\" stroke=\"black\" d=\"M284,-197.5C284,-197.5 169,-197.5 169,-197.5 163,-197.5 157,-191.5 157,-185.5 157,-185.5 157,-121.25 157,-121.25 157,-115.25 163,-109.25 169,-109.25 169,-109.25 284,-109.25 284,-109.25 290,-109.25 296,-115.25 296,-121.25 296,-121.25 296,-185.5 296,-185.5 296,-191.5 290,-197.5 284,-197.5\"/>\n",
       "<text text-anchor=\"middle\" x=\"226.5\" y=\"-180.2\" font-family=\"Helvetica,sans-Serif\" font-size=\"14.00\">new_user &lt;= 0.5</text>\n",
       "<text text-anchor=\"middle\" x=\"226.5\" y=\"-165.2\" font-family=\"Helvetica,sans-Serif\" font-size=\"14.00\">gini = 0.008</text>\n",
       "<text text-anchor=\"middle\" x=\"226.5\" y=\"-150.2\" font-family=\"Helvetica,sans-Serif\" font-size=\"14.00\">samples = 73021</text>\n",
       "<text text-anchor=\"middle\" x=\"226.5\" y=\"-135.2\" font-family=\"Helvetica,sans-Serif\" font-size=\"14.00\">value = [72715, 306]</text>\n",
       "<text text-anchor=\"middle\" x=\"226.5\" y=\"-120.2\" font-family=\"Helvetica,sans-Serif\" font-size=\"14.00\">class = 消费</text>\n",
       "</g>\n",
       "<!-- 2&#45;&gt;3 -->\n",
       "<g id=\"edge3\" class=\"edge\">\n",
       "<title>2&#45;&gt;3</title>\n",
       "<path fill=\"none\" stroke=\"black\" d=\"M380.79,-237.1C357.01,-224.35 330.54,-210.16 306.33,-197.18\"/>\n",
       "<polygon fill=\"black\" stroke=\"black\" points=\"308.27,-194.25 297.8,-192.61 304.96,-200.42 308.27,-194.25\"/>\n",
       "</g>\n",
       "<!-- 6 -->\n",
       "<g id=\"node7\" class=\"node\">\n",
       "<title>6</title>\n",
       "<path fill=\"#e58139\" stroke=\"black\" d=\"M508.25,-197.5C508.25,-197.5 400.75,-197.5 400.75,-197.5 394.75,-197.5 388.75,-191.5 388.75,-185.5 388.75,-185.5 388.75,-121.25 388.75,-121.25 388.75,-115.25 394.75,-109.25 400.75,-109.25 400.75,-109.25 508.25,-109.25 508.25,-109.25 514.25,-109.25 520.25,-115.25 520.25,-121.25 520.25,-121.25 520.25,-185.5 520.25,-185.5 520.25,-191.5 514.25,-197.5 508.25,-197.5\"/>\n",
       "<text text-anchor=\"middle\" x=\"454.5\" y=\"-180.2\" font-family=\"Helvetica,sans-Serif\" font-size=\"14.00\">age &lt;= 41.5</text>\n",
       "<text text-anchor=\"middle\" x=\"454.5\" y=\"-165.2\" font-family=\"Helvetica,sans-Serif\" font-size=\"14.00\">gini = 0.003</text>\n",
       "<text text-anchor=\"middle\" x=\"454.5\" y=\"-150.2\" font-family=\"Helvetica,sans-Serif\" font-size=\"14.00\">samples = 64881</text>\n",
       "<text text-anchor=\"middle\" x=\"454.5\" y=\"-135.2\" font-family=\"Helvetica,sans-Serif\" font-size=\"14.00\">value = [64788, 93]</text>\n",
       "<text text-anchor=\"middle\" x=\"454.5\" y=\"-120.2\" font-family=\"Helvetica,sans-Serif\" font-size=\"14.00\">class = 消费</text>\n",
       "</g>\n",
       "<!-- 2&#45;&gt;6 -->\n",
       "<g id=\"edge6\" class=\"edge\">\n",
       "<title>2&#45;&gt;6</title>\n",
       "<path fill=\"none\" stroke=\"black\" d=\"M454.5,-233.18C454.5,-225.34 454.5,-217.08 454.5,-208.98\"/>\n",
       "<polygon fill=\"black\" stroke=\"black\" points=\"458,-209.19 454.5,-199.19 451,-209.19 458,-209.19\"/>\n",
       "</g>\n",
       "<!-- 4 -->\n",
       "<g id=\"node5\" class=\"node\">\n",
       "<title>4</title>\n",
       "<path fill=\"#e5813a\" stroke=\"black\" d=\"M127,-73.25C127,-73.25 12,-73.25 12,-73.25 6,-73.25 0,-67.25 0,-61.25 0,-61.25 0,-12 0,-12 0,-6 6,0 12,0 12,0 127,0 127,0 133,0 139,-6 139,-12 139,-12 139,-61.25 139,-61.25 139,-67.25 133,-73.25 127,-73.25\"/>\n",
       "<text text-anchor=\"middle\" x=\"69.5\" y=\"-55.95\" font-family=\"Helvetica,sans-Serif\" font-size=\"14.00\">gini = 0.007</text>\n",
       "<text text-anchor=\"middle\" x=\"69.5\" y=\"-40.95\" font-family=\"Helvetica,sans-Serif\" font-size=\"14.00\">samples = 50587</text>\n",
       "<text text-anchor=\"middle\" x=\"69.5\" y=\"-25.95\" font-family=\"Helvetica,sans-Serif\" font-size=\"14.00\">value = [50412, 175]</text>\n",
       "<text text-anchor=\"middle\" x=\"69.5\" y=\"-10.95\" font-family=\"Helvetica,sans-Serif\" font-size=\"14.00\">class = 消费</text>\n",
       "</g>\n",
       "<!-- 3&#45;&gt;4 -->\n",
       "<g id=\"edge4\" class=\"edge\">\n",
       "<title>3&#45;&gt;4</title>\n",
       "<path fill=\"none\" stroke=\"black\" d=\"M167.15,-108.99C154.29,-99.6 140.7,-89.67 127.88,-80.3\"/>\n",
       "<polygon fill=\"black\" stroke=\"black\" points=\"130.07,-77.56 119.93,-74.48 125.93,-83.21 130.07,-77.56\"/>\n",
       "</g>\n",
       "<!-- 5 -->\n",
       "<g id=\"node6\" class=\"node\">\n",
       "<title>5</title>\n",
       "<path fill=\"#e5823a\" stroke=\"black\" d=\"M284,-73.25C284,-73.25 169,-73.25 169,-73.25 163,-73.25 157,-67.25 157,-61.25 157,-61.25 157,-12 157,-12 157,-6 163,0 169,0 169,0 284,0 284,0 290,0 296,-6 296,-12 296,-12 296,-61.25 296,-61.25 296,-67.25 290,-73.25 284,-73.25\"/>\n",
       "<text text-anchor=\"middle\" x=\"226.5\" y=\"-55.95\" font-family=\"Helvetica,sans-Serif\" font-size=\"14.00\">gini = 0.012</text>\n",
       "<text text-anchor=\"middle\" x=\"226.5\" y=\"-40.95\" font-family=\"Helvetica,sans-Serif\" font-size=\"14.00\">samples = 22434</text>\n",
       "<text text-anchor=\"middle\" x=\"226.5\" y=\"-25.95\" font-family=\"Helvetica,sans-Serif\" font-size=\"14.00\">value = [22303, 131]</text>\n",
       "<text text-anchor=\"middle\" x=\"226.5\" y=\"-10.95\" font-family=\"Helvetica,sans-Serif\" font-size=\"14.00\">class = 消费</text>\n",
       "</g>\n",
       "<!-- 3&#45;&gt;5 -->\n",
       "<g id=\"edge5\" class=\"edge\">\n",
       "<title>3&#45;&gt;5</title>\n",
       "<path fill=\"none\" stroke=\"black\" d=\"M226.5,-108.99C226.5,-101.15 226.5,-92.93 226.5,-84.98\"/>\n",
       "<polygon fill=\"black\" stroke=\"black\" points=\"230,-85.1 226.5,-75.1 223,-85.1 230,-85.1\"/>\n",
       "</g>\n",
       "<!-- 7 -->\n",
       "<g id=\"node8\" class=\"node\">\n",
       "<title>7</title>\n",
       "<path fill=\"#e58139\" stroke=\"black\" d=\"M433.25,-73.25C433.25,-73.25 325.75,-73.25 325.75,-73.25 319.75,-73.25 313.75,-67.25 313.75,-61.25 313.75,-61.25 313.75,-12 313.75,-12 313.75,-6 319.75,0 325.75,0 325.75,0 433.25,0 433.25,0 439.25,0 445.25,-6 445.25,-12 445.25,-12 445.25,-61.25 445.25,-61.25 445.25,-67.25 439.25,-73.25 433.25,-73.25\"/>\n",
       "<text text-anchor=\"middle\" x=\"379.5\" y=\"-55.95\" font-family=\"Helvetica,sans-Serif\" font-size=\"14.00\">gini = 0.003</text>\n",
       "<text text-anchor=\"middle\" x=\"379.5\" y=\"-40.95\" font-family=\"Helvetica,sans-Serif\" font-size=\"14.00\">samples = 50422</text>\n",
       "<text text-anchor=\"middle\" x=\"379.5\" y=\"-25.95\" font-family=\"Helvetica,sans-Serif\" font-size=\"14.00\">value = [50339, 83]</text>\n",
       "<text text-anchor=\"middle\" x=\"379.5\" y=\"-10.95\" font-family=\"Helvetica,sans-Serif\" font-size=\"14.00\">class = 消费</text>\n",
       "</g>\n",
       "<!-- 6&#45;&gt;7 -->\n",
       "<g id=\"edge7\" class=\"edge\">\n",
       "<title>6&#45;&gt;7</title>\n",
       "<path fill=\"none\" stroke=\"black\" d=\"M426.15,-108.99C420.6,-100.51 414.77,-91.59 409.18,-83.04\"/>\n",
       "<polygon fill=\"black\" stroke=\"black\" points=\"412.23,-81.31 403.83,-74.86 406.37,-85.14 412.23,-81.31\"/>\n",
       "</g>\n",
       "<!-- 8 -->\n",
       "<g id=\"node9\" class=\"node\">\n",
       "<title>8</title>\n",
       "<path fill=\"#e58139\" stroke=\"black\" d=\"M583.25,-73.25C583.25,-73.25 475.75,-73.25 475.75,-73.25 469.75,-73.25 463.75,-67.25 463.75,-61.25 463.75,-61.25 463.75,-12 463.75,-12 463.75,-6 469.75,0 475.75,0 475.75,0 583.25,0 583.25,0 589.25,0 595.25,-6 595.25,-12 595.25,-12 595.25,-61.25 595.25,-61.25 595.25,-67.25 589.25,-73.25 583.25,-73.25\"/>\n",
       "<text text-anchor=\"middle\" x=\"529.5\" y=\"-55.95\" font-family=\"Helvetica,sans-Serif\" font-size=\"14.00\">gini = 0.001</text>\n",
       "<text text-anchor=\"middle\" x=\"529.5\" y=\"-40.95\" font-family=\"Helvetica,sans-Serif\" font-size=\"14.00\">samples = 14459</text>\n",
       "<text text-anchor=\"middle\" x=\"529.5\" y=\"-25.95\" font-family=\"Helvetica,sans-Serif\" font-size=\"14.00\">value = [14449, 10]</text>\n",
       "<text text-anchor=\"middle\" x=\"529.5\" y=\"-10.95\" font-family=\"Helvetica,sans-Serif\" font-size=\"14.00\">class = 消费</text>\n",
       "</g>\n",
       "<!-- 6&#45;&gt;8 -->\n",
       "<g id=\"edge8\" class=\"edge\">\n",
       "<title>6&#45;&gt;8</title>\n",
       "<path fill=\"none\" stroke=\"black\" d=\"M482.85,-108.99C488.4,-100.51 494.23,-91.59 499.82,-83.04\"/>\n",
       "<polygon fill=\"black\" stroke=\"black\" points=\"502.63,-85.14 505.17,-74.86 496.77,-81.31 502.63,-85.14\"/>\n",
       "</g>\n",
       "<!-- 10 -->\n",
       "<g id=\"node11\" class=\"node\">\n",
       "<title>10</title>\n",
       "<path fill=\"#e78845\" stroke=\"black\" d=\"M888.62,-197.5C888.62,-197.5 738.38,-197.5 738.38,-197.5 732.38,-197.5 726.38,-191.5 726.38,-185.5 726.38,-185.5 726.38,-121.25 726.38,-121.25 726.38,-115.25 732.38,-109.25 738.38,-109.25 738.38,-109.25 888.62,-109.25 888.62,-109.25 894.62,-109.25 900.62,-115.25 900.62,-121.25 900.62,-121.25 900.62,-185.5 900.62,-185.5 900.62,-191.5 894.62,-197.5 888.62,-197.5\"/>\n",
       "<text text-anchor=\"middle\" x=\"813.5\" y=\"-180.2\" font-family=\"Helvetica,sans-Serif\" font-size=\"14.00\">total_pages_visited &lt;= 7.5</text>\n",
       "<text text-anchor=\"middle\" x=\"813.5\" y=\"-165.2\" font-family=\"Helvetica,sans-Serif\" font-size=\"14.00\">gini = 0.105</text>\n",
       "<text text-anchor=\"middle\" x=\"813.5\" y=\"-150.2\" font-family=\"Helvetica,sans-Serif\" font-size=\"14.00\">samples = 6253</text>\n",
       "<text text-anchor=\"middle\" x=\"813.5\" y=\"-135.2\" font-family=\"Helvetica,sans-Serif\" font-size=\"14.00\">value = [5906, 347]</text>\n",
       "<text text-anchor=\"middle\" x=\"813.5\" y=\"-120.2\" font-family=\"Helvetica,sans-Serif\" font-size=\"14.00\">class = 消费</text>\n",
       "</g>\n",
       "<!-- 9&#45;&gt;10 -->\n",
       "<g id=\"edge10\" class=\"edge\">\n",
       "<title>9&#45;&gt;10</title>\n",
       "<path fill=\"none\" stroke=\"black\" d=\"M867,-233.18C861.25,-224.71 855.17,-215.75 849.24,-207.02\"/>\n",
       "<polygon fill=\"black\" stroke=\"black\" points=\"852.26,-205.24 843.75,-198.93 846.47,-209.17 852.26,-205.24\"/>\n",
       "</g>\n",
       "<!-- 13 -->\n",
       "<g id=\"node14\" class=\"node\">\n",
       "<title>13</title>\n",
       "<path fill=\"#fefaf8\" stroke=\"black\" d=\"M1030.5,-197.5C1030.5,-197.5 930.5,-197.5 930.5,-197.5 924.5,-197.5 918.5,-191.5 918.5,-185.5 918.5,-185.5 918.5,-121.25 918.5,-121.25 918.5,-115.25 924.5,-109.25 930.5,-109.25 930.5,-109.25 1030.5,-109.25 1030.5,-109.25 1036.5,-109.25 1042.5,-115.25 1042.5,-121.25 1042.5,-121.25 1042.5,-185.5 1042.5,-185.5 1042.5,-191.5 1036.5,-197.5 1030.5,-197.5\"/>\n",
       "<text text-anchor=\"middle\" x=\"980.5\" y=\"-180.2\" font-family=\"Helvetica,sans-Serif\" font-size=\"14.00\">age &lt;= 34.5</text>\n",
       "<text text-anchor=\"middle\" x=\"980.5\" y=\"-165.2\" font-family=\"Helvetica,sans-Serif\" font-size=\"14.00\">gini = 0.5</text>\n",
       "<text text-anchor=\"middle\" x=\"980.5\" y=\"-150.2\" font-family=\"Helvetica,sans-Serif\" font-size=\"14.00\">samples = 1244</text>\n",
       "<text text-anchor=\"middle\" x=\"980.5\" y=\"-135.2\" font-family=\"Helvetica,sans-Serif\" font-size=\"14.00\">value = [634, 610]</text>\n",
       "<text text-anchor=\"middle\" x=\"980.5\" y=\"-120.2\" font-family=\"Helvetica,sans-Serif\" font-size=\"14.00\">class = 消费</text>\n",
       "</g>\n",
       "<!-- 9&#45;&gt;13 -->\n",
       "<g id=\"edge13\" class=\"edge\">\n",
       "<title>9&#45;&gt;13</title>\n",
       "<path fill=\"none\" stroke=\"black\" d=\"M926.35,-233.18C932.17,-224.71 938.33,-215.75 944.32,-207.02\"/>\n",
       "<polygon fill=\"black\" stroke=\"black\" points=\"947.11,-209.15 949.89,-198.93 941.34,-205.19 947.11,-209.15\"/>\n",
       "</g>\n",
       "<!-- 11 -->\n",
       "<g id=\"node12\" class=\"node\">\n",
       "<title>11</title>\n",
       "<path fill=\"#e68540\" stroke=\"black\" d=\"M733.25,-73.25C733.25,-73.25 625.75,-73.25 625.75,-73.25 619.75,-73.25 613.75,-67.25 613.75,-61.25 613.75,-61.25 613.75,-12 613.75,-12 613.75,-6 619.75,0 625.75,0 625.75,0 733.25,0 733.25,0 739.25,0 745.25,-6 745.25,-12 745.25,-12 745.25,-61.25 745.25,-61.25 745.25,-67.25 739.25,-73.25 733.25,-73.25\"/>\n",
       "<text text-anchor=\"middle\" x=\"679.5\" y=\"-55.95\" font-family=\"Helvetica,sans-Serif\" font-size=\"14.00\">gini = 0.064</text>\n",
       "<text text-anchor=\"middle\" x=\"679.5\" y=\"-40.95\" font-family=\"Helvetica,sans-Serif\" font-size=\"14.00\">samples = 5158</text>\n",
       "<text text-anchor=\"middle\" x=\"679.5\" y=\"-25.95\" font-family=\"Helvetica,sans-Serif\" font-size=\"14.00\">value = [4986, 172]</text>\n",
       "<text text-anchor=\"middle\" x=\"679.5\" y=\"-10.95\" font-family=\"Helvetica,sans-Serif\" font-size=\"14.00\">class = 消费</text>\n",
       "</g>\n",
       "<!-- 10&#45;&gt;11 -->\n",
       "<g id=\"edge11\" class=\"edge\">\n",
       "<title>10&#45;&gt;11</title>\n",
       "<path fill=\"none\" stroke=\"black\" d=\"M762.84,-108.99C752.08,-99.78 740.72,-90.05 729.97,-80.84\"/>\n",
       "<polygon fill=\"black\" stroke=\"black\" points=\"732.52,-78.42 722.65,-74.57 727.97,-83.74 732.52,-78.42\"/>\n",
       "</g>\n",
       "<!-- 12 -->\n",
       "<g id=\"node13\" class=\"node\">\n",
       "<title>12</title>\n",
       "<path fill=\"#ea995f\" stroke=\"black\" d=\"M875.5,-73.25C875.5,-73.25 775.5,-73.25 775.5,-73.25 769.5,-73.25 763.5,-67.25 763.5,-61.25 763.5,-61.25 763.5,-12 763.5,-12 763.5,-6 769.5,0 775.5,0 775.5,0 875.5,0 875.5,0 881.5,0 887.5,-6 887.5,-12 887.5,-12 887.5,-61.25 887.5,-61.25 887.5,-67.25 881.5,-73.25 875.5,-73.25\"/>\n",
       "<text text-anchor=\"middle\" x=\"825.5\" y=\"-55.95\" font-family=\"Helvetica,sans-Serif\" font-size=\"14.00\">gini = 0.269</text>\n",
       "<text text-anchor=\"middle\" x=\"825.5\" y=\"-40.95\" font-family=\"Helvetica,sans-Serif\" font-size=\"14.00\">samples = 1095</text>\n",
       "<text text-anchor=\"middle\" x=\"825.5\" y=\"-25.95\" font-family=\"Helvetica,sans-Serif\" font-size=\"14.00\">value = [920, 175]</text>\n",
       "<text text-anchor=\"middle\" x=\"825.5\" y=\"-10.95\" font-family=\"Helvetica,sans-Serif\" font-size=\"14.00\">class = 消费</text>\n",
       "</g>\n",
       "<!-- 10&#45;&gt;12 -->\n",
       "<g id=\"edge12\" class=\"edge\">\n",
       "<title>10&#45;&gt;12</title>\n",
       "<path fill=\"none\" stroke=\"black\" d=\"M818.04,-108.99C818.86,-101.15 819.72,-92.93 820.55,-84.98\"/>\n",
       "<polygon fill=\"black\" stroke=\"black\" points=\"824.02,-85.4 821.58,-75.09 817.06,-84.68 824.02,-85.4\"/>\n",
       "</g>\n",
       "<!-- 14 -->\n",
       "<g id=\"node15\" class=\"node\">\n",
       "<title>14</title>\n",
       "<path fill=\"#d4e9f9\" stroke=\"black\" d=\"M1017.5,-73.25C1017.5,-73.25 917.5,-73.25 917.5,-73.25 911.5,-73.25 905.5,-67.25 905.5,-61.25 905.5,-61.25 905.5,-12 905.5,-12 905.5,-6 911.5,0 917.5,0 917.5,0 1017.5,0 1017.5,0 1023.5,0 1029.5,-6 1029.5,-12 1029.5,-12 1029.5,-61.25 1029.5,-61.25 1029.5,-67.25 1023.5,-73.25 1017.5,-73.25\"/>\n",
       "<text text-anchor=\"middle\" x=\"967.5\" y=\"-55.95\" font-family=\"Helvetica,sans-Serif\" font-size=\"14.00\">gini = 0.492</text>\n",
       "<text text-anchor=\"middle\" x=\"967.5\" y=\"-40.95\" font-family=\"Helvetica,sans-Serif\" font-size=\"14.00\">samples = 1013</text>\n",
       "<text text-anchor=\"middle\" x=\"967.5\" y=\"-25.95\" font-family=\"Helvetica,sans-Serif\" font-size=\"14.00\">value = [444, 569]</text>\n",
       "<text text-anchor=\"middle\" x=\"967.5\" y=\"-10.95\" font-family=\"Helvetica,sans-Serif\" font-size=\"14.00\">class = 未消费</text>\n",
       "</g>\n",
       "<!-- 13&#45;&gt;14 -->\n",
       "<g id=\"edge14\" class=\"edge\">\n",
       "<title>13&#45;&gt;14</title>\n",
       "<path fill=\"none\" stroke=\"black\" d=\"M975.59,-108.99C974.7,-101.15 973.77,-92.93 972.86,-84.98\"/>\n",
       "<polygon fill=\"black\" stroke=\"black\" points=\"976.35,-84.63 971.74,-75.09 969.39,-85.42 976.35,-84.63\"/>\n",
       "</g>\n",
       "<!-- 15 -->\n",
       "<g id=\"node16\" class=\"node\">\n",
       "<title>15</title>\n",
       "<path fill=\"#eb9c64\" stroke=\"black\" d=\"M1151.75,-73.25C1151.75,-73.25 1059.25,-73.25 1059.25,-73.25 1053.25,-73.25 1047.25,-67.25 1047.25,-61.25 1047.25,-61.25 1047.25,-12 1047.25,-12 1047.25,-6 1053.25,0 1059.25,0 1059.25,0 1151.75,0 1151.75,0 1157.75,0 1163.75,-6 1163.75,-12 1163.75,-12 1163.75,-61.25 1163.75,-61.25 1163.75,-67.25 1157.75,-73.25 1151.75,-73.25\"/>\n",
       "<text text-anchor=\"middle\" x=\"1105.5\" y=\"-55.95\" font-family=\"Helvetica,sans-Serif\" font-size=\"14.00\">gini = 0.292</text>\n",
       "<text text-anchor=\"middle\" x=\"1105.5\" y=\"-40.95\" font-family=\"Helvetica,sans-Serif\" font-size=\"14.00\">samples = 231</text>\n",
       "<text text-anchor=\"middle\" x=\"1105.5\" y=\"-25.95\" font-family=\"Helvetica,sans-Serif\" font-size=\"14.00\">value = [190, 41]</text>\n",
       "<text text-anchor=\"middle\" x=\"1105.5\" y=\"-10.95\" font-family=\"Helvetica,sans-Serif\" font-size=\"14.00\">class = 消费</text>\n",
       "</g>\n",
       "<!-- 13&#45;&gt;15 -->\n",
       "<g id=\"edge15\" class=\"edge\">\n",
       "<title>13&#45;&gt;15</title>\n",
       "<path fill=\"none\" stroke=\"black\" d=\"M1027.76,-108.99C1037.7,-99.87 1048.18,-90.24 1058.12,-81.12\"/>\n",
       "<polygon fill=\"black\" stroke=\"black\" points=\"1060.21,-83.95 1065.21,-74.61 1055.48,-78.8 1060.21,-83.95\"/>\n",
       "</g>\n",
       "<!-- 17 -->\n",
       "<g id=\"node18\" class=\"node\">\n",
       "<title>17</title>\n",
       "<path fill=\"#e5813a\" stroke=\"black\" d=\"M1472.75,-321.75C1472.75,-321.75 1380.25,-321.75 1380.25,-321.75 1374.25,-321.75 1368.25,-315.75 1368.25,-309.75 1368.25,-309.75 1368.25,-245.5 1368.25,-245.5 1368.25,-239.5 1374.25,-233.5 1380.25,-233.5 1380.25,-233.5 1472.75,-233.5 1472.75,-233.5 1478.75,-233.5 1484.75,-239.5 1484.75,-245.5 1484.75,-245.5 1484.75,-309.75 1484.75,-309.75 1484.75,-315.75 1478.75,-321.75 1472.75,-321.75\"/>\n",
       "<text text-anchor=\"middle\" x=\"1426.5\" y=\"-304.45\" font-family=\"Helvetica,sans-Serif\" font-size=\"14.00\">age &lt;= 28.5</text>\n",
       "<text text-anchor=\"middle\" x=\"1426.5\" y=\"-289.45\" font-family=\"Helvetica,sans-Serif\" font-size=\"14.00\">gini = 0.007</text>\n",
       "<text text-anchor=\"middle\" x=\"1426.5\" y=\"-274.45\" font-family=\"Helvetica,sans-Serif\" font-size=\"14.00\">samples = 1919</text>\n",
       "<text text-anchor=\"middle\" x=\"1426.5\" y=\"-259.45\" font-family=\"Helvetica,sans-Serif\" font-size=\"14.00\">value = [1912, 7]</text>\n",
       "<text text-anchor=\"middle\" x=\"1426.5\" y=\"-244.45\" font-family=\"Helvetica,sans-Serif\" font-size=\"14.00\">class = 消费</text>\n",
       "</g>\n",
       "<!-- 16&#45;&gt;17 -->\n",
       "<g id=\"edge17\" class=\"edge\">\n",
       "<title>16&#45;&gt;17</title>\n",
       "<path fill=\"none\" stroke=\"black\" d=\"M1426.5,-357.43C1426.5,-349.59 1426.5,-341.33 1426.5,-333.23\"/>\n",
       "<polygon fill=\"black\" stroke=\"black\" points=\"1430,-333.44 1426.5,-323.44 1423,-333.44 1430,-333.44\"/>\n",
       "</g>\n",
       "<!-- 24 -->\n",
       "<g id=\"node25\" class=\"node\">\n",
       "<title>24</title>\n",
       "<path fill=\"#62b1ea\" stroke=\"black\" d=\"M1871.25,-321.75C1871.25,-321.75 1763.75,-321.75 1763.75,-321.75 1757.75,-321.75 1751.75,-315.75 1751.75,-309.75 1751.75,-309.75 1751.75,-245.5 1751.75,-245.5 1751.75,-239.5 1757.75,-233.5 1763.75,-233.5 1763.75,-233.5 1871.25,-233.5 1871.25,-233.5 1877.25,-233.5 1883.25,-239.5 1883.25,-245.5 1883.25,-245.5 1883.25,-309.75 1883.25,-309.75 1883.25,-315.75 1877.25,-321.75 1871.25,-321.75\"/>\n",
       "<text text-anchor=\"middle\" x=\"1817.5\" y=\"-304.45\" font-family=\"Helvetica,sans-Serif\" font-size=\"14.00\">age &lt;= 35.5</text>\n",
       "<text text-anchor=\"middle\" x=\"1817.5\" y=\"-289.45\" font-family=\"Helvetica,sans-Serif\" font-size=\"14.00\">gini = 0.285</text>\n",
       "<text text-anchor=\"middle\" x=\"1817.5\" y=\"-274.45\" font-family=\"Helvetica,sans-Serif\" font-size=\"14.00\">samples = 2493</text>\n",
       "<text text-anchor=\"middle\" x=\"1817.5\" y=\"-259.45\" font-family=\"Helvetica,sans-Serif\" font-size=\"14.00\">value = [430, 2063]</text>\n",
       "<text text-anchor=\"middle\" x=\"1817.5\" y=\"-244.45\" font-family=\"Helvetica,sans-Serif\" font-size=\"14.00\">class = 未消费</text>\n",
       "</g>\n",
       "<!-- 16&#45;&gt;24 -->\n",
       "<g id=\"edge24\" class=\"edge\">\n",
       "<title>16&#45;&gt;24</title>\n",
       "<path fill=\"none\" stroke=\"black\" d=\"M1500.96,-377.59C1569.63,-356.12 1671.15,-324.38 1740.59,-302.67\"/>\n",
       "<polygon fill=\"black\" stroke=\"black\" points=\"1741.5,-306.05 1750,-299.73 1739.41,-299.37 1741.5,-306.05\"/>\n",
       "</g>\n",
       "<!-- 18 -->\n",
       "<g id=\"node19\" class=\"node\">\n",
       "<title>18</title>\n",
       "<path fill=\"#e5823a\" stroke=\"black\" d=\"M1404,-197.5C1404,-197.5 1319,-197.5 1319,-197.5 1313,-197.5 1307,-191.5 1307,-185.5 1307,-185.5 1307,-121.25 1307,-121.25 1307,-115.25 1313,-109.25 1319,-109.25 1319,-109.25 1404,-109.25 1404,-109.25 1410,-109.25 1416,-115.25 1416,-121.25 1416,-121.25 1416,-185.5 1416,-185.5 1416,-191.5 1410,-197.5 1404,-197.5\"/>\n",
       "<text text-anchor=\"middle\" x=\"1361.5\" y=\"-180.2\" font-family=\"Helvetica,sans-Serif\" font-size=\"14.00\">age &lt;= 25.5</text>\n",
       "<text text-anchor=\"middle\" x=\"1361.5\" y=\"-165.2\" font-family=\"Helvetica,sans-Serif\" font-size=\"14.00\">gini = 0.014</text>\n",
       "<text text-anchor=\"middle\" x=\"1361.5\" y=\"-150.2\" font-family=\"Helvetica,sans-Serif\" font-size=\"14.00\">samples = 858</text>\n",
       "<text text-anchor=\"middle\" x=\"1361.5\" y=\"-135.2\" font-family=\"Helvetica,sans-Serif\" font-size=\"14.00\">value = [852, 6]</text>\n",
       "<text text-anchor=\"middle\" x=\"1361.5\" y=\"-120.2\" font-family=\"Helvetica,sans-Serif\" font-size=\"14.00\">class = 消费</text>\n",
       "</g>\n",
       "<!-- 17&#45;&gt;18 -->\n",
       "<g id=\"edge18\" class=\"edge\">\n",
       "<title>17&#45;&gt;18</title>\n",
       "<path fill=\"none\" stroke=\"black\" d=\"M1403.4,-233.18C1398.99,-224.89 1394.34,-216.13 1389.79,-207.58\"/>\n",
       "<polygon fill=\"black\" stroke=\"black\" points=\"1393.02,-206.2 1385.24,-199.02 1386.84,-209.49 1393.02,-206.2\"/>\n",
       "</g>\n",
       "<!-- 21 -->\n",
       "<g id=\"node22\" class=\"node\">\n",
       "<title>21</title>\n",
       "<path fill=\"#e58139\" stroke=\"black\" d=\"M1538.75,-197.5C1538.75,-197.5 1446.25,-197.5 1446.25,-197.5 1440.25,-197.5 1434.25,-191.5 1434.25,-185.5 1434.25,-185.5 1434.25,-121.25 1434.25,-121.25 1434.25,-115.25 1440.25,-109.25 1446.25,-109.25 1446.25,-109.25 1538.75,-109.25 1538.75,-109.25 1544.75,-109.25 1550.75,-115.25 1550.75,-121.25 1550.75,-121.25 1550.75,-185.5 1550.75,-185.5 1550.75,-191.5 1544.75,-197.5 1538.75,-197.5\"/>\n",
       "<text text-anchor=\"middle\" x=\"1492.5\" y=\"-180.2\" font-family=\"Helvetica,sans-Serif\" font-size=\"14.00\">country &lt;= 1.5</text>\n",
       "<text text-anchor=\"middle\" x=\"1492.5\" y=\"-165.2\" font-family=\"Helvetica,sans-Serif\" font-size=\"14.00\">gini = 0.002</text>\n",
       "<text text-anchor=\"middle\" x=\"1492.5\" y=\"-150.2\" font-family=\"Helvetica,sans-Serif\" font-size=\"14.00\">samples = 1061</text>\n",
       "<text text-anchor=\"middle\" x=\"1492.5\" y=\"-135.2\" font-family=\"Helvetica,sans-Serif\" font-size=\"14.00\">value = [1060, 1]</text>\n",
       "<text text-anchor=\"middle\" x=\"1492.5\" y=\"-120.2\" font-family=\"Helvetica,sans-Serif\" font-size=\"14.00\">class = 消费</text>\n",
       "</g>\n",
       "<!-- 17&#45;&gt;21 -->\n",
       "<g id=\"edge21\" class=\"edge\">\n",
       "<title>17&#45;&gt;21</title>\n",
       "<path fill=\"none\" stroke=\"black\" d=\"M1449.95,-233.18C1454.43,-224.89 1459.16,-216.13 1463.78,-207.58\"/>\n",
       "<polygon fill=\"black\" stroke=\"black\" points=\"1466.73,-209.47 1468.4,-199.01 1460.57,-206.15 1466.73,-209.47\"/>\n",
       "</g>\n",
       "<!-- 19 -->\n",
       "<g id=\"node20\" class=\"node\">\n",
       "<title>19</title>\n",
       "<path fill=\"#e58139\" stroke=\"black\" d=\"M1279,-73.25C1279,-73.25 1194,-73.25 1194,-73.25 1188,-73.25 1182,-67.25 1182,-61.25 1182,-61.25 1182,-12 1182,-12 1182,-6 1188,0 1194,0 1194,0 1279,0 1279,0 1285,0 1291,-6 1291,-12 1291,-12 1291,-61.25 1291,-61.25 1291,-67.25 1285,-73.25 1279,-73.25\"/>\n",
       "<text text-anchor=\"middle\" x=\"1236.5\" y=\"-55.95\" font-family=\"Helvetica,sans-Serif\" font-size=\"14.00\">gini = 0.003</text>\n",
       "<text text-anchor=\"middle\" x=\"1236.5\" y=\"-40.95\" font-family=\"Helvetica,sans-Serif\" font-size=\"14.00\">samples = 585</text>\n",
       "<text text-anchor=\"middle\" x=\"1236.5\" y=\"-25.95\" font-family=\"Helvetica,sans-Serif\" font-size=\"14.00\">value = [584, 1]</text>\n",
       "<text text-anchor=\"middle\" x=\"1236.5\" y=\"-10.95\" font-family=\"Helvetica,sans-Serif\" font-size=\"14.00\">class = 消费</text>\n",
       "</g>\n",
       "<!-- 18&#45;&gt;19 -->\n",
       "<g id=\"edge19\" class=\"edge\">\n",
       "<title>18&#45;&gt;19</title>\n",
       "<path fill=\"none\" stroke=\"black\" d=\"M1314.24,-108.99C1304.3,-99.87 1293.82,-90.24 1283.88,-81.12\"/>\n",
       "<polygon fill=\"black\" stroke=\"black\" points=\"1286.52,-78.8 1276.79,-74.61 1281.79,-83.95 1286.52,-78.8\"/>\n",
       "</g>\n",
       "<!-- 20 -->\n",
       "<g id=\"node21\" class=\"node\">\n",
       "<title>20</title>\n",
       "<path fill=\"#e5833d\" stroke=\"black\" d=\"M1406,-73.25C1406,-73.25 1321,-73.25 1321,-73.25 1315,-73.25 1309,-67.25 1309,-61.25 1309,-61.25 1309,-12 1309,-12 1309,-6 1315,0 1321,0 1321,0 1406,0 1406,0 1412,0 1418,-6 1418,-12 1418,-12 1418,-61.25 1418,-61.25 1418,-67.25 1412,-73.25 1406,-73.25\"/>\n",
       "<text text-anchor=\"middle\" x=\"1363.5\" y=\"-55.95\" font-family=\"Helvetica,sans-Serif\" font-size=\"14.00\">gini = 0.036</text>\n",
       "<text text-anchor=\"middle\" x=\"1363.5\" y=\"-40.95\" font-family=\"Helvetica,sans-Serif\" font-size=\"14.00\">samples = 273</text>\n",
       "<text text-anchor=\"middle\" x=\"1363.5\" y=\"-25.95\" font-family=\"Helvetica,sans-Serif\" font-size=\"14.00\">value = [268, 5]</text>\n",
       "<text text-anchor=\"middle\" x=\"1363.5\" y=\"-10.95\" font-family=\"Helvetica,sans-Serif\" font-size=\"14.00\">class = 消费</text>\n",
       "</g>\n",
       "<!-- 18&#45;&gt;20 -->\n",
       "<g id=\"edge20\" class=\"edge\">\n",
       "<title>18&#45;&gt;20</title>\n",
       "<path fill=\"none\" stroke=\"black\" d=\"M1362.26,-108.99C1362.39,-101.15 1362.54,-92.93 1362.67,-84.98\"/>\n",
       "<polygon fill=\"black\" stroke=\"black\" points=\"1366.17,-85.16 1362.85,-75.1 1359.17,-85.04 1366.17,-85.16\"/>\n",
       "</g>\n",
       "<!-- 22 -->\n",
       "<g id=\"node23\" class=\"node\">\n",
       "<title>22</title>\n",
       "<path fill=\"#e58139\" stroke=\"black\" d=\"M1533,-73.25C1533,-73.25 1448,-73.25 1448,-73.25 1442,-73.25 1436,-67.25 1436,-61.25 1436,-61.25 1436,-12 1436,-12 1436,-6 1442,0 1448,0 1448,0 1533,0 1533,0 1539,0 1545,-6 1545,-12 1545,-12 1545,-61.25 1545,-61.25 1545,-67.25 1539,-73.25 1533,-73.25\"/>\n",
       "<text text-anchor=\"middle\" x=\"1490.5\" y=\"-55.95\" font-family=\"Helvetica,sans-Serif\" font-size=\"14.00\">gini = 0.0</text>\n",
       "<text text-anchor=\"middle\" x=\"1490.5\" y=\"-40.95\" font-family=\"Helvetica,sans-Serif\" font-size=\"14.00\">samples = 821</text>\n",
       "<text text-anchor=\"middle\" x=\"1490.5\" y=\"-25.95\" font-family=\"Helvetica,sans-Serif\" font-size=\"14.00\">value = [821, 0]</text>\n",
       "<text text-anchor=\"middle\" x=\"1490.5\" y=\"-10.95\" font-family=\"Helvetica,sans-Serif\" font-size=\"14.00\">class = 消费</text>\n",
       "</g>\n",
       "<!-- 21&#45;&gt;22 -->\n",
       "<g id=\"edge22\" class=\"edge\">\n",
       "<title>21&#45;&gt;22</title>\n",
       "<path fill=\"none\" stroke=\"black\" d=\"M1491.74,-108.99C1491.61,-101.15 1491.46,-92.93 1491.33,-84.98\"/>\n",
       "<polygon fill=\"black\" stroke=\"black\" points=\"1494.83,-85.04 1491.15,-75.1 1487.83,-85.16 1494.83,-85.04\"/>\n",
       "</g>\n",
       "<!-- 23 -->\n",
       "<g id=\"node24\" class=\"node\">\n",
       "<title>23</title>\n",
       "<path fill=\"#e5823a\" stroke=\"black\" d=\"M1660,-73.25C1660,-73.25 1575,-73.25 1575,-73.25 1569,-73.25 1563,-67.25 1563,-61.25 1563,-61.25 1563,-12 1563,-12 1563,-6 1569,0 1575,0 1575,0 1660,0 1660,0 1666,0 1672,-6 1672,-12 1672,-12 1672,-61.25 1672,-61.25 1672,-67.25 1666,-73.25 1660,-73.25\"/>\n",
       "<text text-anchor=\"middle\" x=\"1617.5\" y=\"-55.95\" font-family=\"Helvetica,sans-Serif\" font-size=\"14.00\">gini = 0.008</text>\n",
       "<text text-anchor=\"middle\" x=\"1617.5\" y=\"-40.95\" font-family=\"Helvetica,sans-Serif\" font-size=\"14.00\">samples = 240</text>\n",
       "<text text-anchor=\"middle\" x=\"1617.5\" y=\"-25.95\" font-family=\"Helvetica,sans-Serif\" font-size=\"14.00\">value = [239, 1]</text>\n",
       "<text text-anchor=\"middle\" x=\"1617.5\" y=\"-10.95\" font-family=\"Helvetica,sans-Serif\" font-size=\"14.00\">class = 消费</text>\n",
       "</g>\n",
       "<!-- 21&#45;&gt;23 -->\n",
       "<g id=\"edge23\" class=\"edge\">\n",
       "<title>21&#45;&gt;23</title>\n",
       "<path fill=\"none\" stroke=\"black\" d=\"M1539.76,-108.99C1549.7,-99.87 1560.18,-90.24 1570.12,-81.12\"/>\n",
       "<polygon fill=\"black\" stroke=\"black\" points=\"1572.21,-83.95 1577.21,-74.61 1567.48,-78.8 1572.21,-83.95\"/>\n",
       "</g>\n",
       "<!-- 25 -->\n",
       "<g id=\"node26\" class=\"node\">\n",
       "<title>25</title>\n",
       "<path fill=\"#56abe9\" stroke=\"black\" d=\"M1871.25,-197.5C1871.25,-197.5 1763.75,-197.5 1763.75,-197.5 1757.75,-197.5 1751.75,-191.5 1751.75,-185.5 1751.75,-185.5 1751.75,-121.25 1751.75,-121.25 1751.75,-115.25 1757.75,-109.25 1763.75,-109.25 1763.75,-109.25 1871.25,-109.25 1871.25,-109.25 1877.25,-109.25 1883.25,-115.25 1883.25,-121.25 1883.25,-121.25 1883.25,-185.5 1883.25,-185.5 1883.25,-191.5 1877.25,-197.5 1871.25,-197.5\"/>\n",
       "<text text-anchor=\"middle\" x=\"1817.5\" y=\"-180.2\" font-family=\"Helvetica,sans-Serif\" font-size=\"14.00\">age &lt;= 18.5</text>\n",
       "<text text-anchor=\"middle\" x=\"1817.5\" y=\"-165.2\" font-family=\"Helvetica,sans-Serif\" font-size=\"14.00\">gini = 0.224</text>\n",
       "<text text-anchor=\"middle\" x=\"1817.5\" y=\"-150.2\" font-family=\"Helvetica,sans-Serif\" font-size=\"14.00\">samples = 2265</text>\n",
       "<text text-anchor=\"middle\" x=\"1817.5\" y=\"-135.2\" font-family=\"Helvetica,sans-Serif\" font-size=\"14.00\">value = [291, 1974]</text>\n",
       "<text text-anchor=\"middle\" x=\"1817.5\" y=\"-120.2\" font-family=\"Helvetica,sans-Serif\" font-size=\"14.00\">class = 未消费</text>\n",
       "</g>\n",
       "<!-- 24&#45;&gt;25 -->\n",
       "<g id=\"edge25\" class=\"edge\">\n",
       "<title>24&#45;&gt;25</title>\n",
       "<path fill=\"none\" stroke=\"black\" d=\"M1817.5,-233.18C1817.5,-225.34 1817.5,-217.08 1817.5,-208.98\"/>\n",
       "<polygon fill=\"black\" stroke=\"black\" points=\"1821,-209.19 1817.5,-199.19 1814,-209.19 1821,-209.19\"/>\n",
       "</g>\n",
       "<!-- 28 -->\n",
       "<g id=\"node29\" class=\"node\">\n",
       "<title>28</title>\n",
       "<path fill=\"#f6d2b8\" stroke=\"black\" d=\"M2074.75,-197.5C2074.75,-197.5 1982.25,-197.5 1982.25,-197.5 1976.25,-197.5 1970.25,-191.5 1970.25,-185.5 1970.25,-185.5 1970.25,-121.25 1970.25,-121.25 1970.25,-115.25 1976.25,-109.25 1982.25,-109.25 1982.25,-109.25 2074.75,-109.25 2074.75,-109.25 2080.75,-109.25 2086.75,-115.25 2086.75,-121.25 2086.75,-121.25 2086.75,-185.5 2086.75,-185.5 2086.75,-191.5 2080.75,-197.5 2074.75,-197.5\"/>\n",
       "<text text-anchor=\"middle\" x=\"2028.5\" y=\"-180.2\" font-family=\"Helvetica,sans-Serif\" font-size=\"14.00\">age &lt;= 39.5</text>\n",
       "<text text-anchor=\"middle\" x=\"2028.5\" y=\"-165.2\" font-family=\"Helvetica,sans-Serif\" font-size=\"14.00\">gini = 0.476</text>\n",
       "<text text-anchor=\"middle\" x=\"2028.5\" y=\"-150.2\" font-family=\"Helvetica,sans-Serif\" font-size=\"14.00\">samples = 228</text>\n",
       "<text text-anchor=\"middle\" x=\"2028.5\" y=\"-135.2\" font-family=\"Helvetica,sans-Serif\" font-size=\"14.00\">value = [139, 89]</text>\n",
       "<text text-anchor=\"middle\" x=\"2028.5\" y=\"-120.2\" font-family=\"Helvetica,sans-Serif\" font-size=\"14.00\">class = 消费</text>\n",
       "</g>\n",
       "<!-- 24&#45;&gt;28 -->\n",
       "<g id=\"edge28\" class=\"edge\">\n",
       "<title>24&#45;&gt;28</title>\n",
       "<path fill=\"none\" stroke=\"black\" d=\"M1883.68,-238.28C1908.01,-224.19 1935.59,-208.21 1960.1,-194\"/>\n",
       "<polygon fill=\"black\" stroke=\"black\" points=\"1961.84,-197.04 1968.74,-189 1958.33,-190.99 1961.84,-197.04\"/>\n",
       "</g>\n",
       "<!-- 26 -->\n",
       "<g id=\"node27\" class=\"node\">\n",
       "<title>26</title>\n",
       "<path fill=\"#a5d3f3\" stroke=\"black\" d=\"M1794.75,-73.25C1794.75,-73.25 1702.25,-73.25 1702.25,-73.25 1696.25,-73.25 1690.25,-67.25 1690.25,-61.25 1690.25,-61.25 1690.25,-12 1690.25,-12 1690.25,-6 1696.25,0 1702.25,0 1702.25,0 1794.75,0 1794.75,0 1800.75,0 1806.75,-6 1806.75,-12 1806.75,-12 1806.75,-61.25 1806.75,-61.25 1806.75,-67.25 1800.75,-73.25 1794.75,-73.25\"/>\n",
       "<text text-anchor=\"middle\" x=\"1748.5\" y=\"-55.95\" font-family=\"Helvetica,sans-Serif\" font-size=\"14.00\">gini = 0.457</text>\n",
       "<text text-anchor=\"middle\" x=\"1748.5\" y=\"-40.95\" font-family=\"Helvetica,sans-Serif\" font-size=\"14.00\">samples = 232</text>\n",
       "<text text-anchor=\"middle\" x=\"1748.5\" y=\"-25.95\" font-family=\"Helvetica,sans-Serif\" font-size=\"14.00\">value = [82, 150]</text>\n",
       "<text text-anchor=\"middle\" x=\"1748.5\" y=\"-10.95\" font-family=\"Helvetica,sans-Serif\" font-size=\"14.00\">class = 未消费</text>\n",
       "</g>\n",
       "<!-- 25&#45;&gt;26 -->\n",
       "<g id=\"edge26\" class=\"edge\">\n",
       "<title>25&#45;&gt;26</title>\n",
       "<path fill=\"none\" stroke=\"black\" d=\"M1791.41,-108.99C1786.37,-100.6 1781.06,-91.78 1775.97,-83.32\"/>\n",
       "<polygon fill=\"black\" stroke=\"black\" points=\"1779.06,-81.65 1770.9,-74.89 1773.06,-85.26 1779.06,-81.65\"/>\n",
       "</g>\n",
       "<!-- 27 -->\n",
       "<g id=\"node28\" class=\"node\">\n",
       "<title>27</title>\n",
       "<path fill=\"#50a8e8\" stroke=\"black\" d=\"M1944.25,-73.25C1944.25,-73.25 1836.75,-73.25 1836.75,-73.25 1830.75,-73.25 1824.75,-67.25 1824.75,-61.25 1824.75,-61.25 1824.75,-12 1824.75,-12 1824.75,-6 1830.75,0 1836.75,0 1836.75,0 1944.25,0 1944.25,0 1950.25,0 1956.25,-6 1956.25,-12 1956.25,-12 1956.25,-61.25 1956.25,-61.25 1956.25,-67.25 1950.25,-73.25 1944.25,-73.25\"/>\n",
       "<text text-anchor=\"middle\" x=\"1890.5\" y=\"-55.95\" font-family=\"Helvetica,sans-Serif\" font-size=\"14.00\">gini = 0.184</text>\n",
       "<text text-anchor=\"middle\" x=\"1890.5\" y=\"-40.95\" font-family=\"Helvetica,sans-Serif\" font-size=\"14.00\">samples = 2033</text>\n",
       "<text text-anchor=\"middle\" x=\"1890.5\" y=\"-25.95\" font-family=\"Helvetica,sans-Serif\" font-size=\"14.00\">value = [209, 1824]</text>\n",
       "<text text-anchor=\"middle\" x=\"1890.5\" y=\"-10.95\" font-family=\"Helvetica,sans-Serif\" font-size=\"14.00\">class = 未消费</text>\n",
       "</g>\n",
       "<!-- 25&#45;&gt;27 -->\n",
       "<g id=\"edge27\" class=\"edge\">\n",
       "<title>25&#45;&gt;27</title>\n",
       "<path fill=\"none\" stroke=\"black\" d=\"M1845.1,-108.99C1850.5,-100.51 1856.17,-91.59 1861.61,-83.04\"/>\n",
       "<polygon fill=\"black\" stroke=\"black\" points=\"1864.39,-85.18 1866.81,-74.87 1858.49,-81.42 1864.39,-85.18\"/>\n",
       "</g>\n",
       "<!-- 29 -->\n",
       "<g id=\"node30\" class=\"node\">\n",
       "<title>29</title>\n",
       "<path fill=\"#eaf4fc\" stroke=\"black\" d=\"M2071,-73.25C2071,-73.25 1986,-73.25 1986,-73.25 1980,-73.25 1974,-67.25 1974,-61.25 1974,-61.25 1974,-12 1974,-12 1974,-6 1980,0 1986,0 1986,0 2071,0 2071,0 2077,0 2083,-6 2083,-12 2083,-12 2083,-61.25 2083,-61.25 2083,-67.25 2077,-73.25 2071,-73.25\"/>\n",
       "<text text-anchor=\"middle\" x=\"2028.5\" y=\"-55.95\" font-family=\"Helvetica,sans-Serif\" font-size=\"14.00\">gini = 0.498</text>\n",
       "<text text-anchor=\"middle\" x=\"2028.5\" y=\"-40.95\" font-family=\"Helvetica,sans-Serif\" font-size=\"14.00\">samples = 123</text>\n",
       "<text text-anchor=\"middle\" x=\"2028.5\" y=\"-25.95\" font-family=\"Helvetica,sans-Serif\" font-size=\"14.00\">value = [58, 65]</text>\n",
       "<text text-anchor=\"middle\" x=\"2028.5\" y=\"-10.95\" font-family=\"Helvetica,sans-Serif\" font-size=\"14.00\">class = 未消费</text>\n",
       "</g>\n",
       "<!-- 28&#45;&gt;29 -->\n",
       "<g id=\"edge29\" class=\"edge\">\n",
       "<title>28&#45;&gt;29</title>\n",
       "<path fill=\"none\" stroke=\"black\" d=\"M2028.5,-108.99C2028.5,-101.15 2028.5,-92.93 2028.5,-84.98\"/>\n",
       "<polygon fill=\"black\" stroke=\"black\" points=\"2032,-85.1 2028.5,-75.1 2025,-85.1 2032,-85.1\"/>\n",
       "</g>\n",
       "<!-- 30 -->\n",
       "<g id=\"node31\" class=\"node\">\n",
       "<title>30</title>\n",
       "<path fill=\"#eda674\" stroke=\"black\" d=\"M2198,-73.25C2198,-73.25 2113,-73.25 2113,-73.25 2107,-73.25 2101,-67.25 2101,-61.25 2101,-61.25 2101,-12 2101,-12 2101,-6 2107,0 2113,0 2113,0 2198,0 2198,0 2204,0 2210,-6 2210,-12 2210,-12 2210,-61.25 2210,-61.25 2210,-67.25 2204,-73.25 2198,-73.25\"/>\n",
       "<text text-anchor=\"middle\" x=\"2155.5\" y=\"-55.95\" font-family=\"Helvetica,sans-Serif\" font-size=\"14.00\">gini = 0.353</text>\n",
       "<text text-anchor=\"middle\" x=\"2155.5\" y=\"-40.95\" font-family=\"Helvetica,sans-Serif\" font-size=\"14.00\">samples = 105</text>\n",
       "<text text-anchor=\"middle\" x=\"2155.5\" y=\"-25.95\" font-family=\"Helvetica,sans-Serif\" font-size=\"14.00\">value = [81, 24]</text>\n",
       "<text text-anchor=\"middle\" x=\"2155.5\" y=\"-10.95\" font-family=\"Helvetica,sans-Serif\" font-size=\"14.00\">class = 消费</text>\n",
       "</g>\n",
       "<!-- 28&#45;&gt;30 -->\n",
       "<g id=\"edge30\" class=\"edge\">\n",
       "<title>28&#45;&gt;30</title>\n",
       "<path fill=\"none\" stroke=\"black\" d=\"M2076.51,-108.99C2086.61,-99.87 2097.26,-90.24 2107.37,-81.12\"/>\n",
       "<polygon fill=\"black\" stroke=\"black\" points=\"2109.5,-83.9 2114.57,-74.6 2104.81,-78.71 2109.5,-83.9\"/>\n",
       "</g>\n",
       "</g>\n",
       "</svg>\n"
      ],
      "text/plain": [
       "<graphviz.sources.Source at 0x11f1f1760>"
      ]
     },
     "execution_count": 38,
     "metadata": {},
     "output_type": "execute_result"
    }
   ],
   "source": [
    "#根据max_depth的学习曲线可以看出，在max_depth=4时，测试集的回召率时最高的，带入做预测\n",
    "clf = DecisionTreeClassifier(random_state=1, max_depth=4).fit(x, Y)\n",
    "\n",
    "from sklearn import tree\n",
    "import graphviz\n",
    "\n",
    "data = tree.export_graphviz(\n",
    "    clf,\n",
    "    feature_names=x.columns.tolist(),\n",
    "    class_names=['消费', '未消费'],\n",
    "    filled=True, #是否给树填充颜色，\n",
    "    rounded=True #圆角还是方角\n",
    ")\n",
    "\n",
    "graph = graphviz.Source(data)\n",
    "graph"
   ]
  },
  {
   "cell_type": "code",
   "execution_count": 39,
   "metadata": {},
   "outputs": [
    {
     "data": {
      "text/plain": [
       "(array([22302., 30798., 33675., 28525., 19052.,  9902.,  3979.,  1170.,\n",
       "          333.,    75.]),\n",
       " array([17., 22., 27., 32., 37., 42., 47., 52., 57., 62., 67.]),\n",
       " <BarContainer object of 10 artists>)"
      ]
     },
     "execution_count": 39,
     "metadata": {},
     "output_type": "execute_result"
    }
   ],
   "source": [
    "dataset.index.duplicated().sum()\n",
    "type(dataset['age_cut'][0])\n",
    "dataset.age_cut.isnull().sum()\n",
    "dataset\n",
    "\n",
    "import matplotlib.pyplot as plt\n",
    "plt.hist(dataset['age'])"
   ]
  },
  {
   "cell_type": "markdown",
   "metadata": {},
   "source": []
  }
 ],
 "metadata": {
  "kernelspec": {
   "display_name": "ecommerce-R_V4zh4h-py3.9",
   "language": "python",
   "name": "python3"
  },
  "language_info": {
   "codemirror_mode": {
    "name": "ipython",
    "version": 3
   },
   "file_extension": ".py",
   "mimetype": "text/x-python",
   "name": "python",
   "nbconvert_exporter": "python",
   "pygments_lexer": "ipython3",
   "version": "3.9.6"
  }
 },
 "nbformat": 4,
 "nbformat_minor": 2
}
